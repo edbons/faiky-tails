{
 "cells": [
  {
   "cell_type": "code",
   "execution_count": 4,
   "metadata": {},
   "outputs": [],
   "source": [
    "import pandas as pd\n",
    "import pprint\n",
    "from collections import defaultdict"
   ]
  },
  {
   "cell_type": "code",
   "execution_count": 5,
   "metadata": {},
   "outputs": [
    {
     "name": "stdout",
     "output_type": "stream",
     "text": [
      "defaultdict(<class 'list'>,\n",
      "            {'s_kw_beams1_p095_k0_t13_rep20': ['self_bleu2',\n",
      "                                               'self_bleu3',\n",
      "                                               'self_bleu4',\n",
      "                                               'self_bleu5'],\n",
      "             's_kw_beams4_p095_k0_t10_rep20': ['ms_jaccard2',\n",
      "                                               'ms_jaccard3',\n",
      "                                               'ms_jaccard4',\n",
      "                                               'ms_jaccard5',\n",
      "                                               'forward_bleu2',\n",
      "                                               'backward_bleu2',\n",
      "                                               'ha_bleu2',\n",
      "                                               'backward_bleu3',\n",
      "                                               'ha_bleu3',\n",
      "                                               'backward_bleu4',\n",
      "                                               'ha_bleu4',\n",
      "                                               'backward_bleu5',\n",
      "                                               'ha_bleu5',\n",
      "                                               'bertscore_f1_l11',\n",
      "                                               'bertscore_f1_l12',\n",
      "                                               'fbd_1-6',\n",
      "                                               'fbd_7-12'],\n",
      "             's_kw_beams5_p095_k3_t10_rep20': ['forward_bleu3',\n",
      "                                               'forward_bleu4',\n",
      "                                               'forward_bleu5',\n",
      "                                               'rouge-1',\n",
      "                                               'rouge-2',\n",
      "                                               'rouge-l',\n",
      "                                               'tfidf_distance']})\n"
     ]
    }
   ],
   "source": [
    "df_report = pd.read_csv('experiments_results.csv', sep='|', encoding='utf-8')\n",
    "pd.options.display.float_format = '{:.4f}'.format\n",
    "df_report.dropna(axis=0, inplace=True)\n",
    "\n",
    "cols_max = ['ms_jaccard2', 'ms_jaccard3', 'ms_jaccard4', 'ms_jaccard5',  'forward_bleu2', 'backward_bleu2', 'ha_bleu2', 'forward_bleu3', 'backward_bleu3', 'ha_bleu3', 'forward_bleu4', 'backward_bleu4', 'ha_bleu4', 'forward_bleu5', 'backward_bleu5', 'ha_bleu5',  'rouge-1', 'rouge-2', 'rouge-l', 'bertscore_f1_l11', 'bertscore_f1_l12']\n",
    "cols_min = ['tfidf_distance', 'fbd_1-6', 'fbd_7-12', 'self_bleu2', 'self_bleu3', 'self_bleu4', 'self_bleu5']\n",
    "\n",
    "best = defaultdict(list)\n",
    "for col in cols_max:\n",
    "    best[df_report.iloc[df_report[col].argmax()][0]].append(col) \n",
    "\n",
    "for col in cols_min:\n",
    "    best[df_report.iloc[df_report[col].argmin()][0]].append(col) \n",
    "\n",
    "pprint.pprint(best)\n"
   ]
  }
 ],
 "metadata": {
  "interpreter": {
   "hash": "2d3a13fa35461c6d7f441fbb3d93fc4f14860aa527e8f914775d5e57b8364c02"
  },
  "kernelspec": {
   "display_name": "Python 3.9.5 64-bit ('tf': conda)",
   "language": "python",
   "name": "python3"
  },
  "language_info": {
   "codemirror_mode": {
    "name": "ipython",
    "version": 3
   },
   "file_extension": ".py",
   "mimetype": "text/x-python",
   "name": "python",
   "nbconvert_exporter": "python",
   "pygments_lexer": "ipython3",
   "version": "3.9.5"
  },
  "orig_nbformat": 4
 },
 "nbformat": 4,
 "nbformat_minor": 2
}
