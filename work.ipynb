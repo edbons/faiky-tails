{
 "cells": [
  {
   "cell_type": "code",
   "execution_count": 1,
   "metadata": {},
   "outputs": [
    {
     "ename": "ModuleNotFoundError",
     "evalue": "No module named 'transformers.modeling_gpt2'",
     "output_type": "error",
     "traceback": [
      "\u001b[1;31m---------------------------------------------------------------------------\u001b[0m",
      "\u001b[1;31mModuleNotFoundError\u001b[0m                       Traceback (most recent call last)",
      "\u001b[1;32m~\\AppData\\Local\\Temp/ipykernel_20884/3969812437.py\u001b[0m in \u001b[0;36m<module>\u001b[1;34m\u001b[0m\n\u001b[0;32m     14\u001b[0m \u001b[1;31m# from src.model.generate_utils  import generate_paragraph\u001b[0m\u001b[1;33m\u001b[0m\u001b[1;33m\u001b[0m\u001b[1;33m\u001b[0m\u001b[0m\n\u001b[0;32m     15\u001b[0m \u001b[1;31m# from src.model.eval_utils import evaluate_doc_model\u001b[0m\u001b[1;33m\u001b[0m\u001b[1;33m\u001b[0m\u001b[1;33m\u001b[0m\u001b[0m\n\u001b[1;32m---> 16\u001b[1;33m \u001b[1;32mfrom\u001b[0m \u001b[0msrc\u001b[0m\u001b[1;33m.\u001b[0m\u001b[0mmodel\u001b[0m\u001b[1;33m.\u001b[0m\u001b[0mmodel\u001b[0m \u001b[1;32mimport\u001b[0m \u001b[0mGPT2BaseModel\u001b[0m\u001b[1;33m\u001b[0m\u001b[1;33m\u001b[0m\u001b[0m\n\u001b[0m",
      "\u001b[1;32mc:\\Users\\edbon\\devproj\\faiky-tails\\src\\model\\model.py\u001b[0m in \u001b[0;36m<module>\u001b[1;34m\u001b[0m\n\u001b[0;32m      5\u001b[0m \u001b[1;32mimport\u001b[0m \u001b[0mcopy\u001b[0m\u001b[1;33m\u001b[0m\u001b[1;33m\u001b[0m\u001b[0m\n\u001b[0;32m      6\u001b[0m \u001b[1;33m\u001b[0m\u001b[0m\n\u001b[1;32m----> 7\u001b[1;33m \u001b[1;32mfrom\u001b[0m \u001b[0mtransformers\u001b[0m\u001b[1;33m.\u001b[0m\u001b[0mmodeling_gpt2\u001b[0m \u001b[1;32mimport\u001b[0m \u001b[0mAttention\u001b[0m\u001b[1;33m,\u001b[0m \u001b[0mMLP\u001b[0m\u001b[1;33m\u001b[0m\u001b[1;33m\u001b[0m\u001b[0m\n\u001b[0m\u001b[0;32m      8\u001b[0m \u001b[1;32mfrom\u001b[0m \u001b[0mtransformers\u001b[0m \u001b[1;32mimport\u001b[0m \u001b[0mAdamW\u001b[0m\u001b[1;33m\u001b[0m\u001b[1;33m\u001b[0m\u001b[0m\n\u001b[0;32m      9\u001b[0m \u001b[1;32mfrom\u001b[0m \u001b[0mtransformers\u001b[0m \u001b[1;32mimport\u001b[0m  \u001b[0mGPT2Model\u001b[0m\u001b[1;33m,\u001b[0m \u001b[0mGPT2LMHeadModel\u001b[0m\u001b[1;33m\u001b[0m\u001b[1;33m\u001b[0m\u001b[0m\n",
      "\u001b[1;31mModuleNotFoundError\u001b[0m: No module named 'transformers.modeling_gpt2'"
     ]
    }
   ],
   "source": [
    "# from src.model.data_loader import ParagraphDataset\n",
    "from transformers import GPT2Tokenizer, GPT2LMHeadModel\n",
    "import torch\n",
    "from torch.utils.data import Dataset, DataLoader\n",
    "import pickle\n",
    "from src.model.loss import ParagraphLoss\n",
    "from transformers import AdamW\n",
    "from tqdm import tqdm\n",
    "import math\n",
    "from src.model.logger import Logger\n",
    "import os\n",
    "import pandas as pd\n",
    "import rouge\n",
    "# from src.model.generate_utils  import generate_paragraph\n",
    "# from src.model.eval_utils import evaluate_doc_model\n",
    "from src.model.model import GPT2BaseModel\n"
   ]
  },
  {
   "cell_type": "code",
   "execution_count": null,
   "metadata": {},
   "outputs": [],
   "source": [
    "class ParagraphDataset(Dataset):\n",
    "    def __init__(self, data_file, encoder, max_size=None, n_ctx=102, n_gen=401, include_neigh=False,\n",
    "                 include_discourse_type=True, include_kw=True, dim=0 ,debug_mode=False):\n",
    "        with open(data_file, \"rb\") as f:\n",
    "            self.data = f.readlines()\n",
    "\n",
    "        if include_neigh:\n",
    "            self.prev = []\n",
    "            fn = \".\".join(data_file.split(\".\")[:-1]) + \"_gpt2.pkl\"\n",
    "            if debug_mode:\n",
    "                fn = \".\".join(data_file.split(\".\")[:-1]) + \"_gpt.pkl\"\n",
    "            with open(fn, 'rb') as fp:\n",
    "                for k in range(len(self.data)):\n",
    "                    temp = pickle.load(fp)\n",
    "                    assert temp[0] == k and temp[1] == self.data[k].decode('utf-8', 'ignore').split(\"\\t\")[-1].replace(\n",
    "                        \"<o>\", \"\").strip()\n",
    "                    self.prev.append(temp[2])\n",
    "        else:\n",
    "            self.prev = None\n",
    "\n",
    "        self.dids = []\n",
    "        for d in range(1, len(self.data)):\n",
    "            t = self.data[d].decode(\"utf-8\", \"ignore\").strip().split('\\t')\n",
    "            if len(t) == 7 and t[5].replace(\"<o>\", \"\").strip() != \"\":\n",
    "                try:\n",
    "                    x, y = int(t[0].split(\"_\")[-1]), int(t[4])\n",
    "                    self.dids.append(d)\n",
    "                except:\n",
    "                    pass\n",
    "\n",
    "        if max_size is not None:\n",
    "            self.dids = self.dids[:max_size]\n",
    "        self.encoder = encoder\n",
    "        self.ctx = n_ctx - 2\n",
    "        self.gen = n_gen - 1\n",
    "        self.dim = dim\n",
    "        self.len = len(self.data)\n",
    "        self.include_neigh = include_neigh\n",
    "        self.include_discourse_type = include_discourse_type\n",
    "        self.include_kw = include_kw\n",
    "\n",
    "\n",
    "    def __getitem__(self, index):\n",
    "        idx = self.dids[index]\n",
    "        csv_data = self.data[idx].decode(\"utf-8\", \"ignore\").strip().split('\\t')\n",
    "        kws = csv_data[2].split(\"[SEP]\")\n",
    "        tgt_phrase = self.encoder.encode(csv_data[5].replace(\"<o>\", \"\"),  add_special_tokens=False)[:self.gen] # add_prefix_space=True,\n",
    "        start = torch.LongTensor([self.encoder.bos_token_id])\n",
    "        clstok = torch.LongTensor([self.encoder.cls_token_id])\n",
    "        end = torch.LongTensor([self.encoder.eos_token_id])\n",
    "        tstart = torch.LongTensor([self.encoder.convert_tokens_to_ids('_t_')])\n",
    "        istart = torch.LongTensor([self.encoder.convert_tokens_to_ids('_i_')])\n",
    "        bstart = torch.LongTensor([self.encoder.convert_tokens_to_ids('_b_')])\n",
    "        cstart = torch.LongTensor([self.encoder.convert_tokens_to_ids('_c_')])\n",
    "        keytok = torch.LongTensor([self.encoder.convert_tokens_to_ids('_kw_')])\n",
    "        endkeytok = torch.LongTensor([self.encoder.convert_tokens_to_ids('_endkw_')])\n",
    "        \n",
    "        if self.include_discourse_type:\n",
    "            starttyptok = bstart\n",
    "            if int(csv_data[0].split(\"_\")[-1]) == 0:\n",
    "                starttyptok = istart\n",
    "            elif int(csv_data[0].split(\"_\")[-1]) == int(csv_data[4]) - 1:\n",
    "                starttyptok = cstart\n",
    "        else:\n",
    "            starttyptok = clstok\n",
    "\n",
    "        print(starttyptok)\n",
    "        \n",
    "        pad_output = torch.zeros(self.ctx + self.gen + 3).long()\n",
    "        mask_output = torch.zeros(self.ctx + self.gen + 3).long()\n",
    "\n",
    "        pad_output[0] = start\n",
    "        if self.include_kw:\n",
    "            i = 1\n",
    "            for k in kws:\n",
    "                if i - 1 >= self.ctx:\n",
    "                    break\n",
    "                enck = self.encoder.encode(k.strip(),  add_special_tokens=False)[:self.ctx - i] # add_prefix_space=True,\n",
    "                # print(enck, i)\n",
    "                pad_output[i:i + len(enck)] = torch.LongTensor(enck)\n",
    "                pad_output[i + len(enck)] = keytok\n",
    "                i += len(enck) + 1\n",
    "            pad_output[i - 1] = endkeytok\n",
    "            mask_output[0:i] = torch.ones(i).long()\n",
    "\n",
    "        pad_output[self.ctx + 1] = starttyptok if self.include_discourse_type else clstok  # [101] -> discourse tag\n",
    "        pad_output[self.ctx + 1 + 1:self.ctx + 1 + 1 + len(tgt_phrase)] = torch.LongTensor(tgt_phrase)\n",
    "        pad_output[self.ctx + 1 + 1 + len(tgt_phrase)] = end\n",
    "\n",
    "        # Mask\n",
    "        mask_output[self.ctx + 1:self.ctx + 1 + len(tgt_phrase) + 2] = torch.ones(len(tgt_phrase) + 2).long()\n",
    "\n",
    "        if self.include_neigh:\n",
    "            n = torch.FloatTensor(self.prev[idx].flatten())\n",
    "        else:\n",
    "            n = torch.zeros(self.dim, dtype=torch.float64)\n",
    "        return pad_output, mask_output, n\n",
    "\n",
    "    def __len__(self):\n",
    "        return len(self.dids)"
   ]
  },
  {
   "cell_type": "code",
   "execution_count": null,
   "metadata": {},
   "outputs": [],
   "source": [
    "encoder = GPT2Tokenizer.from_pretrained(\"sberbank-ai/rugpt3small_based_on_gpt2\", add_prefix_space=True)\n",
    "\n",
    "# encoder.add_special_tokens({'bos_token':'_start_',\n",
    "#                                      'cls_token':'_classify_',\n",
    "#                                      'eos_token':'_end_',\n",
    "#                                      'additional_special_tokens': ['_kw_','_endkw_', '_t_', '_i_', '_b_', '_c_']\n",
    "#                                     })\n",
    "\n",
    "encoder.add_special_tokens({'additional_special_tokens': ['[SEP]']\n",
    "                                    })"
   ]
  },
  {
   "cell_type": "code",
   "execution_count": null,
   "metadata": {},
   "outputs": [],
   "source": [
    "config = {\n",
    "    \"include_kw\": True,\n",
    "    \"include_discourse_type\": True,\n",
    "    \"max_size\": 10,\n",
    "    \"n_ctx\": 102,\n",
    "    \"gen_len\": 400,\n",
    "    \"include_neigh\": False,\n",
    "    \"dim\": 768,\n",
    "    \"lr\": 6.25e-5,\n",
    "    \"b1\": 0.9,\n",
    "    \"b2\": 0.999,\n",
    "    \"e\": 1e-8,\n",
    "    \"num_epochs\": 1\n",
    "}"
   ]
  },
  {
   "cell_type": "code",
   "execution_count": null,
   "metadata": {},
   "outputs": [],
   "source": [
    "train_dataset = ParagraphDataset('dataset/plot/train_encoded.csv', encoder, max_size=config[\"max_size\"], n_ctx=config[\"n_ctx\"], n_gen=config[\"gen_len\"],\n",
    "                               include_neigh=config[\"include_neigh\"], include_discourse_type=config[\"include_discourse_type\"], \n",
    "                               include_kw=config[\"include_kw\"], dim=config[\"dim\"])\n",
    "\n",
    "test_dataset = ParagraphDataset('dataset/plot/val_encoded.csv', encoder, max_size=config[\"max_size\"], n_ctx=config[\"n_ctx\"], n_gen=config[\"gen_len\"],\n",
    "                               include_neigh=config[\"include_neigh\"], include_discourse_type=config[\"include_discourse_type\"], \n",
    "                               include_kw=config[\"include_kw\"], dim=config[\"dim\"])"
   ]
  },
  {
   "cell_type": "code",
   "execution_count": null,
   "metadata": {},
   "outputs": [],
   "source": [
    "train_loader = DataLoader(train_dataset, batch_size=2, shuffle=True, num_workers=0, drop_last=True)\n",
    "val_loader = DataLoader(test_dataset, batch_size=1, shuffle=False, num_workers=0, drop_last=True)"
   ]
  },
  {
   "cell_type": "code",
   "execution_count": null,
   "metadata": {},
   "outputs": [],
   "source": [
    "for batch in val_loader:\n",
    "    # print(batch[0][0].size())\n",
    "    print(encoder.decode(batch[0][0], skip_special_tokens=False))"
   ]
  },
  {
   "cell_type": "code",
   "execution_count": null,
   "metadata": {},
   "outputs": [],
   "source": [
    "model = GPT2LMHeadModel.from_pretrained(\"sberbank-ai/rugpt3small_based_on_gpt2\", output_hidden_states=True)"
   ]
  },
  {
   "cell_type": "code",
   "execution_count": null,
   "metadata": {},
   "outputs": [],
   "source": [
    "def run_batch(model, args, device, compute_loss_fct):\n",
    "    for arg in args:\n",
    "        if arg is not None:\n",
    "            arg = arg.to(device)\n",
    "\n",
    "    output = model(*args)\n",
    "    \n",
    "    args[0] = args[0].to(device)\n",
    "    args[1] = args[1].to(device)\n",
    "    \n",
    "    allloss = compute_loss_fct(output, args[0], args[1])\n",
    "    \n",
    "    return allloss.mean()"
   ]
  },
  {
   "cell_type": "code",
   "execution_count": null,
   "metadata": {},
   "outputs": [],
   "source": [
    "def run_epoch(bestloss, start_iter, running_loss, model, compute_loss_fct, model_opt, train_loader, val_loader, train_log_interval, val_log_interval, device, beam, gen_len, k,p, decoding_strategy, accum_iter, desc_str, save_dir, logger, text_encoder, show_progress=False, summary_loss=None, my_local_dir='checkpoints_local'):\n",
    "    '''\n",
    "    Run a single epoch, log results, and save best checkpoint\n",
    "    '''\n",
    "    if show_progress:\n",
    "        train_bar = tqdm(iterable=train_loader, desc=desc_str)\n",
    "    else:\n",
    "        train_bar = train_loader\n",
    "\n",
    "    for i, batchargs in enumerate(train_bar, start_iter):\n",
    "        \n",
    "        num_updates = i // accum_iter\n",
    "        model.train()\n",
    "        loss = run_batch(model, batchargs, device, compute_loss_fct)\n",
    "\n",
    "        loss.backward()\n",
    "\n",
    "        running_loss += float(loss.detach().item())\n",
    "        if show_progress:\n",
    "            train_bar.set_postfix(loss=running_loss / ((train_log_interval * accum_iter) if num_updates % train_log_interval == 0 and num_updates != 0 else i % (train_log_interval * accum_iter)))\n",
    "\n",
    "        if i % accum_iter == 0:\n",
    "            model_opt.step()\n",
    "            model_opt.zero_grad()\n",
    "            torch.cuda.empty_cache()\n",
    "        if num_updates % train_log_interval == 0 and i % accum_iter == 0:\n",
    "            logger.scalar_summary(\"Training\", num=running_loss, denom=(train_log_interval * accum_iter), step=num_updates)\n",
    "            print(\"training loss %.2f\" % (running_loss/float(train_log_interval * accum_iter)))\n",
    "            running_loss = 0\n",
    "\n",
    "        # if num_updates % 1000 == 0 and i % accum_iter == 0:\n",
    "        #     val_loss, scores = evaluate(val_loader, train_log_interval, model, text_encoder, device, beam, gen_len, k, p, decoding_strategy, compute_loss_fct, min_len=args.min_len)\n",
    "\n",
    "        #     logger.scalar_summary(\"Validation\", num=val_loss, denom=len(val_loader), step=num_updates)\n",
    "        #     # if sum(val_loss) < bestloss or bestloss == -1:\n",
    "        #     lv = get_loss_value(val_loss, len(val_loader))\n",
    "        #     if (not math.isnan(lv)) and (bestloss == -1 or lv < bestloss):\n",
    "        #         bestloss = lv\n",
    "        #         save_checkpoint(i + 1, running_loss, model.state_dict(), model_opt.state_dict(), save_dir, my_local_dir)\n",
    "\n",
    "\n",
    "    # val_loss, scores = evaluate(val_loader, train_log_interval, model, text_encoder, device, beam, gen_len, k, p, decoding_strategy, compute_loss_fct, min_len=args.min_len)\n",
    "    # for key, value in scores.items():\n",
    "    #     for key2, value2 in value.items():\n",
    "    #         logger.rouge_summary(\"{}/{}\".format(key, key2), value2, num_updates)\n",
    "    # print(\"Validation rouge: \" + str(scores.items()))\n",
    "    # logger.scalar_summary(\"Validation\", num=val_loss, denom=len(val_loader), step=num_updates)\n",
    "    # lv = get_loss_value(val_loss, len(val_loader))\n",
    "    # if (not math.isnan(lv)) and (bestloss == -1 or lv < bestloss):\n",
    "    #     bestloss = lv\n",
    "    #     save_checkpoint(i + 1, running_loss, model.state_dict(), model_opt.state_dict(), save_dir, my_local_dir)\n",
    "\n",
    "\n",
    "    torch.cuda.empty_cache()\n",
    "    return i + 1, running_loss, bestloss, num_updates # , lv"
   ]
  },
  {
   "cell_type": "code",
   "execution_count": null,
   "metadata": {},
   "outputs": [],
   "source": [
    "output_dir = 'savedir'\n",
    "experiment_name = 'gpt3'\n",
    "print(\"Creating directories\")\n",
    "os.makedirs(output_dir, exist_ok=True)\n",
    "os.makedirs(os.path.join(output_dir, experiment_name), exist_ok=True)\n",
    "os.makedirs(os.path.join(output_dir, experiment_name), exist_ok=True)\n",
    "\n",
    "\n",
    "save_dir = os.path.join(output_dir, experiment_name, \"checkpoints\")\n",
    "save_dir_local = \"checkpoints_local\"\n",
    "desc = \"Desc\"\n",
    "data_dir = 'dataset/plot'\n",
    "log_dir = os.path.join(output_dir, experiment_name, \"logs\")\n",
    "os.makedirs(log_dir, exist_ok=True)\n",
    "os.makedirs(save_dir, exist_ok=True)\n",
    "os.makedirs(save_dir_local, exist_ok=True)"
   ]
  },
  {
   "cell_type": "code",
   "execution_count": null,
   "metadata": {},
   "outputs": [],
   "source": [
    "train_log_interval = 4\n",
    "val_log_interval = 4\n",
    "beam = 0\n",
    "p = 90\n",
    "k = 0\n",
    "decoding_strategy = 0\n",
    "accum_iter = 4\n",
    "device = torch.device(\"cuda\" if torch.cuda.is_available() else \"cpu\")\n",
    "logger = Logger(log_dir)"
   ]
  },
  {
   "cell_type": "code",
   "execution_count": null,
   "metadata": {},
   "outputs": [],
   "source": [
    "criterion = torch.nn.CrossEntropyLoss(reduction=\"none\")\n",
    "\n",
    "model_opt = AdamW(filter(lambda p : p.requires_grad, model.parameters()),\n",
    "                        lr=config['lr'],\n",
    "                        betas=(config['b1'], config['b2']),\n",
    "                        eps=config['e'])\n",
    "\n",
    "\n",
    "\n",
    "lm_loss = ParagraphLoss(criterion, n_ctx=config[\"n_ctx\"], gen_len=config[\"gen_len\"])"
   ]
  },
  {
   "cell_type": "code",
   "execution_count": null,
   "metadata": {},
   "outputs": [],
   "source": [
    "bestloss = -1\n",
    "start_iter, running_loss = 1,0\n",
    "prevloss = 1000\n",
    "\n",
    "for i in range(config['num_epochs']):\n",
    "    start_iter, running_loss, bestloss, updates, val_loss1 = run_epoch(bestloss, start_iter, running_loss, model, lm_loss, model_opt, train_loader, val_loader, train_log_interval, val_log_interval, device, beam, config['gen_len'], k, p, decoding_strategy, accum_iter, \"FT Training Epoch [{}/{}]\".format(i + 1, config['num_epochs']), save_dir, logger, encoder, show_progress=True, my_local_dir='save_dir_local')\n",
    "    print(\"VAL LOSS: \", str(val_loss1))\n",
    "    if val_loss1 > prevloss or math.isnan(val_loss1):\n",
    "        break\n",
    "    prevloss = val_loss1"
   ]
  },
  {
   "cell_type": "markdown",
   "metadata": {},
   "source": [
    "# generate"
   ]
  },
  {
   "cell_type": "code",
   "execution_count": null,
   "metadata": {},
   "outputs": [],
   "source": [
    "df = pd.read_csv('dataset/plot/val_encoded.csv', sep='\\t')\n",
    "print(df.head())"
   ]
  },
  {
   "cell_type": "code",
   "execution_count": null,
   "metadata": {},
   "outputs": [],
   "source": [
    "context = \" \".join(df['[KEYWORDS]'][0].split('[SEP]'))"
   ]
  },
  {
   "cell_type": "code",
   "execution_count": null,
   "metadata": {},
   "outputs": [],
   "source": [
    "input_ids = encoder.encode(context, return_tensors='pt')\n",
    "print(context)\n",
    "print(input_ids.size())"
   ]
  },
  {
   "cell_type": "code",
   "execution_count": null,
   "metadata": {},
   "outputs": [],
   "source": [
    "beam_output = model.generate(\n",
    "    input_ids, \n",
    "    max_length=400, \n",
    "    num_beams=5, \n",
    "    no_repeat_ngram_size=2,\n",
    "    early_stopping=True\n",
    ")\n",
    "\n",
    "print(\"Output:\\n\" + 100 * '-')\n",
    "print(encoder.decode(beam_output[0], skip_special_tokens=True))"
   ]
  },
  {
   "cell_type": "code",
   "execution_count": null,
   "metadata": {},
   "outputs": [],
   "source": [
    "pad_output, attention_mask, n = next(iter(val_loader))"
   ]
  },
  {
   "cell_type": "code",
   "execution_count": null,
   "metadata": {},
   "outputs": [],
   "source": [
    "input_toks = pad_output[:, :config['n_ctx']] # includes delimiter\n",
    "target_toks = pad_output[:, config['n_ctx']:]\n",
    "target_toks = target_toks[:, attention_mask[:, config['n_ctx']:][0] == 1]\n",
    "\n",
    "XMB = pad_output[:, :config['n_ctx']]\n",
    "mask = attention_mask[:, :config['n_ctx']]"
   ]
  },
  {
   "cell_type": "code",
   "execution_count": null,
   "metadata": {},
   "outputs": [],
   "source": [
    "print(encoder.decode(XMB[0], skip_special_tokens=True, clean_up_tokenization_spaces=False))\n",
    "print(encoder.decode(target_toks[0], skip_special_tokens=True))"
   ]
  },
  {
   "cell_type": "code",
   "execution_count": null,
   "metadata": {},
   "outputs": [],
   "source": [
    "beam_output = model.generate(\n",
    "    XMB, \n",
    "    attention_mask=mask,\n",
    "    min_length = 100,\n",
    "    max_length=512, \n",
    "    num_beams=5, \n",
    "    no_repeat_ngram_size=2,\n",
    "    early_stopping=True, \n",
    "    eos_token_id=encoder.eos_token_id,\n",
    "    num_return_sequences=2    \n",
    ")\n",
    "\n",
    "print(\"Context:\\n\" + 100 * '-')\n",
    "print(encoder.decode(XMB[0], skip_special_tokens=True))\n",
    "print()\n",
    "print(\"Output:\\n\" + 100 * '-')\n",
    "print(encoder.decode(beam_output[:, config['n_ctx']:][0], skip_special_tokens=True))"
   ]
  },
  {
   "cell_type": "code",
   "execution_count": null,
   "metadata": {},
   "outputs": [],
   "source": [
    "refs = encoder.decode(XMB[0], skip_special_tokens=True)\n",
    "hyps1 = encoder.decode(beam_output[:, config['n_ctx']:][0], skip_special_tokens=True)\n",
    "hyps2 = encoder.decode(beam_output[:, config['n_ctx']:][1], skip_special_tokens=True)\n",
    "\n",
    "print(\"Context:\\n\" + 100 * '-')\n",
    "print(refs)\n",
    "print(\"Output:\\n\" + 100 * '-')\n",
    "print(hyps1)\n",
    "print(hyps2)"
   ]
  },
  {
   "cell_type": "code",
   "execution_count": null,
   "metadata": {},
   "outputs": [],
   "source": [
    "def get_average_scores(hyps, refs):       \n",
    "    rouge_scorer = rouge.Rouge()\n",
    "    averaged_scores = rouge_scorer.get_scores(hyps, refs, avg=True)\n",
    "    return averaged_scores"
   ]
  },
  {
   "cell_type": "code",
   "execution_count": null,
   "metadata": {},
   "outputs": [],
   "source": [
    "print(get_average_scores(hyps2, refs))\n",
    "# scores = rouge_scorer.get_scores(hyps, hyps, avg=True)\n",
    "# print(scores)"
   ]
  },
  {
   "cell_type": "code",
   "execution_count": null,
   "metadata": {},
   "outputs": [],
   "source": [
    "sample_output = model.generate(\n",
    "    XMB, \n",
    "    attention_mask=mask,\n",
    "    max_length=512, \n",
    "    do_sample=True,\n",
    "    top_p=0.90, \n",
    "    top_k=0,\n",
    "    eos_token_id=encoder.eos_token_id,\n",
    "    min_length = 100,\n",
    "    # num_return_sequences=2, \n",
    "    temperature=0.7, # не используется в пломашинс\n",
    "    # no_repeat_ngram_size=2, # не используется в пломашинс\n",
    "    repetition_penalty = 1.5\n",
    ")"
   ]
  },
  {
   "cell_type": "code",
   "execution_count": null,
   "metadata": {},
   "outputs": [],
   "source": [
    "XMB[0].size()"
   ]
  },
  {
   "cell_type": "code",
   "execution_count": null,
   "metadata": {},
   "outputs": [],
   "source": [
    "refs = encoder.decode(XMB[0], skip_special_tokens=False)\n",
    "hyps1 = encoder.decode(sample_output[:, config['n_ctx']:][0], skip_special_tokens=False)\n",
    "\n",
    "print(\"Context:\\n\" + 100 * '-')\n",
    "print(refs)\n",
    "print(\"Output1:\\n\" + 100 * '-')\n",
    "print(hyps1)"
   ]
  },
  {
   "cell_type": "code",
   "execution_count": null,
   "metadata": {},
   "outputs": [],
   "source": [
    "refs = encoder.decode(XMB[0], skip_special_tokens=True)\n",
    "hyps1 = encoder.decode(sample_output[:, config['n_ctx']:][0], skip_special_tokens=True)\n",
    "hyps2 = encoder.decode(sample_output[:, config['n_ctx']:][1], skip_special_tokens=True)\n",
    "\n",
    "print(\"Context:\\n\" + 100 * '-')\n",
    "print(refs)\n",
    "print(\"Output1:\\n\" + 100 * '-')\n",
    "print(hyps1)\n",
    "print(\"Output2:\\n\" + 100 * '-')\n",
    "print(hyps2)"
   ]
  },
  {
   "cell_type": "code",
   "execution_count": null,
   "metadata": {},
   "outputs": [],
   "source": [
    "print(\"hyps1:\", get_average_scores( hyps1, refs))\n",
    "print(\"hyps2:\", get_average_scores( hyps2, refs))"
   ]
  },
  {
   "cell_type": "code",
   "execution_count": null,
   "metadata": {},
   "outputs": [],
   "source": [
    "from src.model.generate_utils import toks_to_str"
   ]
  },
  {
   "cell_type": "code",
   "execution_count": null,
   "metadata": {},
   "outputs": [],
   "source": [
    "encoder._convert_id_to_token()"
   ]
  },
  {
   "cell_type": "code",
   "execution_count": null,
   "metadata": {},
   "outputs": [],
   "source": [
    "import codecs"
   ]
  },
  {
   "cell_type": "code",
   "execution_count": null,
   "metadata": {},
   "outputs": [],
   "source": [
    "from tokenizers.decoders import ByteLevel\n",
    "decoder = ByteLevel()\n"
   ]
  },
  {
   "cell_type": "code",
   "execution_count": null,
   "metadata": {},
   "outputs": [],
   "source": [
    "str_rep = []\n",
    "end_tok = encoder.convert_tokens_to_ids('_end_')\n",
    "\n",
    "for token in sample_output[0]:\n",
    "    print(token.item(), repr(decoder.decode([ encoder.convert_ids_to_tokens(token.item(), skip_special_tokens=True)])))\n",
    "    if token.item() == end_tok : #or token.item() == 0:# or x.item() == end_idx:\n",
    "        break        \n",
    "    str_rep.append(encoder.convert_ids_to_tokens(token.item()))\n",
    "\n",
    "str_rep = encoder.convert_tokens_to_string(str_rep)\n",
    "\n",
    "# This makes sure rouge scorers doesn't complain about no sentences\n",
    "if not str_rep:\n",
    "    str_rep = \"unk.\"\n",
    "elif \".\" not in str_rep:\n",
    "    str_rep += \".\"\n",
    "\n",
    "print(encoder.decode(sample_output[0], skip_special_tokens=False, clean_up_tokenization_spaces=False))\n",
    "print(\"-\"*50)\n",
    "print(str_rep)"
   ]
  },
  {
   "cell_type": "code",
   "execution_count": null,
   "metadata": {},
   "outputs": [],
   "source": [
    "toks_to_str(sample_output[0], encoder)"
   ]
  },
  {
   "cell_type": "markdown",
   "metadata": {},
   "source": [
    "# evaluate doc"
   ]
  },
  {
   "cell_type": "code",
   "execution_count": null,
   "metadata": {},
   "outputs": [],
   "source": [
    "class Config:\n",
    "    repeattheta = 1.5\n",
    "    output_attentions = True"
   ]
  },
  {
   "cell_type": "code",
   "execution_count": null,
   "metadata": {},
   "outputs": [],
   "source": [
    "args = Config()"
   ]
  },
  {
   "cell_type": "code",
   "execution_count": null,
   "metadata": {},
   "outputs": [],
   "source": [
    "vocab = len(encoder)"
   ]
  },
  {
   "cell_type": "code",
   "execution_count": null,
   "metadata": {},
   "outputs": [],
   "source": [
    "doc_model = GPT2BaseModel(args, vocab=vocab, n_ctx=config['n_ctx'], gen_len=401, lastidx=encoder.eos_token_id, includeprev=False, device='cpu')"
   ]
  },
  {
   "cell_type": "code",
   "execution_count": null,
   "metadata": {},
   "outputs": [],
   "source": [
    "evaluate_doc_model(model=doc_model, val_loader=val_loader, text_encoder=encoder, device='cpu', beam=0, gen_len=401, k=0, p=90, save_file='out', max_len=512, gen_dir=None, tgt_dir=None, min_len=100)"
   ]
  },
  {
   "cell_type": "code",
   "execution_count": null,
   "metadata": {},
   "outputs": [],
   "source": [
    "import json"
   ]
  },
  {
   "cell_type": "code",
   "execution_count": null,
   "metadata": {},
   "outputs": [],
   "source": [
    "with open('text.txt', 'w', encoding='utf-8') as f:\n",
    "    json.dump(\"Моя строка\", f, ensure_ascii=False)"
   ]
  },
  {
   "cell_type": "code",
   "execution_count": null,
   "metadata": {},
   "outputs": [],
   "source": [
    "df = pd.read_csv('generated/test.gens.tsv', sep='\\t', header=None, names=['id', 'plot', 'context', 'part', 'text'])\n",
    "df.head()"
   ]
  },
  {
   "cell_type": "code",
   "execution_count": null,
   "metadata": {},
   "outputs": [],
   "source": [
    "df.text[0]"
   ]
  },
  {
   "cell_type": "markdown",
   "metadata": {},
   "source": [
    "# Rake"
   ]
  },
  {
   "cell_type": "code",
   "execution_count": null,
   "metadata": {},
   "outputs": [],
   "source": [
    "from rake_nltk import Rake\n",
    "import os\n",
    "import re\n",
    "from nltk.corpus import stopwords"
   ]
  },
  {
   "cell_type": "code",
   "execution_count": null,
   "metadata": {},
   "outputs": [],
   "source": [
    "print(stopwords.words('russian'))"
   ]
  },
  {
   "cell_type": "code",
   "execution_count": null,
   "metadata": {},
   "outputs": [],
   "source": [
    "def sorting(lst):\n",
    "    lst2 = sorted(lst, key=len)\n",
    "    return lst2"
   ]
  },
  {
   "cell_type": "code",
   "execution_count": null,
   "metadata": {},
   "outputs": [],
   "source": [
    "def clean_top_features(keywords, top=10):\n",
    "    keywords = sorting(keywords)\n",
    "    newkeys = []\n",
    "    newkeys.append(keywords[len(keywords)-1])\n",
    "    for i in range(len(keywords)-2, -1, -1):\n",
    "        if newkeys[len(newkeys)-1].startswith(keywords[i]):\n",
    "            continue\n",
    "        newkeys.append(keywords[i])\n",
    "\n",
    "    if len(newkeys) > top:\n",
    "        return newkeys[:top]\n",
    "    return newkeys"
   ]
  },
  {
   "cell_type": "code",
   "execution_count": null,
   "metadata": {},
   "outputs": [],
   "source": [
    "files = os.listdir('dataset/raw') \n",
    "print(len(files))"
   ]
  },
  {
   "cell_type": "code",
   "execution_count": null,
   "metadata": {},
   "outputs": [],
   "source": [
    "r = Rake(language='russian', stopwords=stopwords.words())\n",
    "topK = 10\n",
    "with open(os.path.join('dataset/raw', files[0]), 'r', encoding='utf-8') as f:\n",
    "    text = f.read()\n",
    "    print(repr(text))\n",
    "    pars = text.strip().split('\\n')\n",
    "    sentences = []\n",
    "    for par in pars:\n",
    "        sentences.extend(re.sub(\"[\\?!:]\", \".\", par).strip(\".\").split(\".\"))\n",
    "    print('\\n', sentences)\n",
    "    r.extract_keywords_from_sentences(sentences)\n",
    "    top_features = r.get_ranked_phrases()\n",
    "    print('\\n', top_features)\n",
    "    if len(top_features) > topK:\n",
    "        top_features = top_features[:topK]\n",
    "    print('\\n', top_features)\n",
    "    # top_features = clean_top_features(top_features, 10)\n",
    "    # print('\\n', top_features)"
   ]
  },
  {
   "cell_type": "markdown",
   "metadata": {},
   "source": [
    "# Raw Dataset"
   ]
  },
  {
   "cell_type": "markdown",
   "metadata": {},
   "source": [
    "temperature = 0.9, top_k = 0, top_p = 0.95"
   ]
  },
  {
   "cell_type": "code",
   "execution_count": 1,
   "metadata": {},
   "outputs": [],
   "source": [
    "from transformers import GPT2Tokenizer, GPT2LMHeadModel\n",
    "import torch\n",
    "from torch.utils.data import Dataset, DataLoader\n",
    "from src.model.data_full import RawFilesDataset\n",
    "import os\n",
    "from sklearn.model_selection import train_test_split"
   ]
  },
  {
   "cell_type": "code",
   "execution_count": 3,
   "metadata": {},
   "outputs": [],
   "source": [
    "corpus1_path = 'dataset/raw'\n",
    "corpus2_path = 'dataset/raw_other'\n",
    "corpus1_files = [os.path.join(corpus1_path, name) for name in os.listdir(corpus1_path)]\n",
    "corpus2_files = [os.path.join(corpus2_path, name) for name in os.listdir(corpus2_path)]"
   ]
  },
  {
   "cell_type": "code",
   "execution_count": 4,
   "metadata": {},
   "outputs": [],
   "source": [
    "train, val_test = train_test_split(corpus1_files, test_size=0.4)\n",
    "val, test = train_test_split(val_test, test_size=0.5)\n",
    "\n",
    "train.extend(corpus2_files)"
   ]
  },
  {
   "cell_type": "code",
   "execution_count": 6,
   "metadata": {},
   "outputs": [
    {
     "data": {
      "text/plain": [
       "1"
      ]
     },
     "execution_count": 6,
     "metadata": {},
     "output_type": "execute_result"
    }
   ],
   "source": [
    "encoder = GPT2Tokenizer.from_pretrained(\"sberbank-ai/rugpt3small_based_on_gpt2\", add_prefix_space=True)\n",
    "\n",
    "encoder.add_special_tokens({'bos_token': '<s>',                                     \n",
    "                                     'eos_token': '</s>',\n",
    "                                     'additional_special_tokens': ['[SEP]']\n",
    "                                    })\n"
   ]
  },
  {
   "cell_type": "code",
   "execution_count": 13,
   "metadata": {},
   "outputs": [],
   "source": [
    "train_dataset = RawFilesDataset(train, encoder, 2048, n_ctx=70)\n",
    "train_loader = DataLoader(train_dataset, 4, shuffle=True)\n",
    "\n",
    "val_dataset = RawFilesDataset(val, encoder, 2048, n_ctx=70)\n",
    "val_loader = DataLoader(val_dataset, 4, shuffle=False)"
   ]
  },
  {
   "cell_type": "code",
   "execution_count": 16,
   "metadata": {},
   "outputs": [
    {
     "name": "stdout",
     "output_type": "stream",
     "text": [
      "72\n"
     ]
    }
   ],
   "source": [
    "print(len(val_dataset))"
   ]
  },
  {
   "cell_type": "code",
   "execution_count": 14,
   "metadata": {},
   "outputs": [
    {
     "name": "stdout",
     "output_type": "stream",
     "text": [
      "{'sample': tensor([[   1,  262, 2133,  ...,    2,    2,    2],\n",
      "        [   1, 2936,  315,  ...,    2,    2,    2],\n",
      "        [   1,  436,  272,  ...,    2,    2,    2],\n",
      "        [   1,  298, 2147,  ...,    2,    2,    2]]), 'mask': tensor([[1, 1, 1,  ..., 0, 0, 0],\n",
      "        [1, 1, 1,  ..., 0, 0, 0],\n",
      "        [1, 1, 1,  ..., 0, 0, 0],\n",
      "        [1, 1, 1,  ..., 0, 0, 0]]), 'label': tensor([[   1,  262, 2133,  ..., -100, -100, -100],\n",
      "        [   1, 2936,  315,  ..., -100, -100, -100],\n",
      "        [   1,  436,  272,  ..., -100, -100, -100],\n",
      "        [   1,  298, 2147,  ..., -100, -100, -100]])}\n"
     ]
    }
   ],
   "source": [
    "print(next(iter(train_loader)))"
   ]
  },
  {
   "cell_type": "code",
   "execution_count": 12,
   "metadata": {},
   "outputs": [
    {
     "name": "stdout",
     "output_type": "stream",
     "text": [
      "[1, 1851, 502, 6529, 2]\n"
     ]
    }
   ],
   "source": [
    "text = \"<s> какой то текст </s>\"\n",
    "\n",
    "encoded_ids = encoder.encode(text)\n",
    "print(encoded_ids)"
   ]
  },
  {
   "cell_type": "code",
   "execution_count": 2,
   "metadata": {},
   "outputs": [],
   "source": [
    "# from transformers.models import GPT2LMHeadModel\n",
    "\n",
    "with open('savedir/baseline/checkpoints/checkpoint.pt', 'rb') as f:\n",
    "    # model.load_state_dict(torch.load(f))\n",
    "    model_2 = torch.load(f)"
   ]
  }
 ],
 "metadata": {
  "interpreter": {
   "hash": "2d3a13fa35461c6d7f441fbb3d93fc4f14860aa527e8f914775d5e57b8364c02"
  },
  "kernelspec": {
   "display_name": "Python 3.9.5 64-bit ('tf': conda)",
   "language": "python",
   "name": "python3"
  },
  "language_info": {
   "codemirror_mode": {
    "name": "ipython",
    "version": 3
   },
   "file_extension": ".py",
   "mimetype": "text/x-python",
   "name": "python",
   "nbconvert_exporter": "python",
   "pygments_lexer": "ipython3",
   "version": "3.9.5"
  },
  "orig_nbformat": 4
 },
 "nbformat": 4,
 "nbformat_minor": 2
}
