{
 "cells": [
  {
   "cell_type": "code",
   "execution_count": 1,
   "metadata": {},
   "outputs": [],
   "source": [
    "import pandas as pd\n",
    "from src.model.generate_stories import tfmclassifier"
   ]
  },
  {
   "cell_type": "code",
   "execution_count": 32,
   "metadata": {},
   "outputs": [
    {
     "name": "stderr",
     "output_type": "stream",
     "text": [
      "Special tokens have been added in the vocabulary, make sure the associated word embeddings are fine-tuned or trained.\n",
      "C:\\Users\\edbon\\anaconda3\\envs\\tf\\lib\\site-packages\\transformers\\models\\auto\\modeling_auto.py:660: FutureWarning: The class `AutoModelWithLMHead` is deprecated and will be removed in a future version. Please use `AutoModelForCausalLM` for causal language models, `AutoModelForMaskedLM` for masked language models and `AutoModelForSeq2SeqLM` for encoder-decoder models.\n",
      "  warnings.warn(\n"
     ]
    }
   ],
   "source": [
    "from transformers import AutoTokenizer, AutoModelWithLMHead\n",
    "  \n",
    "tokenizer = AutoTokenizer.from_pretrained(\"sberbank-ai/rugpt3small_based_on_gpt2\")\n",
    "\n",
    "model = AutoModelWithLMHead.from_pretrained(\"sberbank-ai/rugpt3small_based_on_gpt2\", output_hidden_states=True)"
   ]
  },
  {
   "cell_type": "code",
   "execution_count": 42,
   "metadata": {},
   "outputs": [
    {
     "name": "stdout",
     "output_type": "stream",
     "text": [
      "0 torch.Size([50264, 768]) cpu 150792\n",
      "1 torch.Size([2048, 768]) cpu 6144\n",
      "2 torch.Size([768]) cpu 3\n",
      "3 torch.Size([768]) cpu 3\n",
      "4 torch.Size([768, 2304]) cpu 6912\n",
      "5 torch.Size([2304]) cpu 9\n",
      "6 torch.Size([768, 768]) cpu 2304\n",
      "7 torch.Size([768]) cpu 3\n",
      "8 torch.Size([768]) cpu 3\n",
      "9 torch.Size([768]) cpu 3\n",
      "10 torch.Size([768, 3072]) cpu 9216\n",
      "11 torch.Size([3072]) cpu 12\n",
      "12 torch.Size([3072, 768]) cpu 9216\n",
      "13 torch.Size([768]) cpu 3\n",
      "14 torch.Size([768]) cpu 3\n",
      "15 torch.Size([768]) cpu 3\n",
      "16 torch.Size([768, 2304]) cpu 6912\n",
      "17 torch.Size([2304]) cpu 9\n",
      "18 torch.Size([768, 768]) cpu 2304\n",
      "19 torch.Size([768]) cpu 3\n",
      "20 torch.Size([768]) cpu 3\n",
      "21 torch.Size([768]) cpu 3\n",
      "22 torch.Size([768, 3072]) cpu 9216\n",
      "23 torch.Size([3072]) cpu 12\n",
      "24 torch.Size([3072, 768]) cpu 9216\n",
      "25 torch.Size([768]) cpu 3\n",
      "26 torch.Size([768]) cpu 3\n",
      "27 torch.Size([768]) cpu 3\n",
      "28 torch.Size([768, 2304]) cpu 6912\n",
      "29 torch.Size([2304]) cpu 9\n",
      "30 torch.Size([768, 768]) cpu 2304\n",
      "31 torch.Size([768]) cpu 3\n",
      "32 torch.Size([768]) cpu 3\n",
      "33 torch.Size([768]) cpu 3\n",
      "34 torch.Size([768, 3072]) cpu 9216\n",
      "35 torch.Size([3072]) cpu 12\n",
      "36 torch.Size([3072, 768]) cpu 9216\n",
      "37 torch.Size([768]) cpu 3\n",
      "38 torch.Size([768]) cpu 3\n",
      "39 torch.Size([768]) cpu 3\n",
      "40 torch.Size([768, 2304]) cpu 6912\n",
      "41 torch.Size([2304]) cpu 9\n",
      "42 torch.Size([768, 768]) cpu 2304\n",
      "43 torch.Size([768]) cpu 3\n",
      "44 torch.Size([768]) cpu 3\n",
      "45 torch.Size([768]) cpu 3\n",
      "46 torch.Size([768, 3072]) cpu 9216\n",
      "47 torch.Size([3072]) cpu 12\n",
      "48 torch.Size([3072, 768]) cpu 9216\n",
      "49 torch.Size([768]) cpu 3\n",
      "50 torch.Size([768]) cpu 3\n",
      "51 torch.Size([768]) cpu 3\n",
      "52 torch.Size([768, 2304]) cpu 6912\n",
      "53 torch.Size([2304]) cpu 9\n",
      "54 torch.Size([768, 768]) cpu 2304\n",
      "55 torch.Size([768]) cpu 3\n",
      "56 torch.Size([768]) cpu 3\n",
      "57 torch.Size([768]) cpu 3\n",
      "58 torch.Size([768, 3072]) cpu 9216\n",
      "59 torch.Size([3072]) cpu 12\n",
      "60 torch.Size([3072, 768]) cpu 9216\n",
      "61 torch.Size([768]) cpu 3\n",
      "62 torch.Size([768]) cpu 3\n",
      "63 torch.Size([768]) cpu 3\n",
      "64 torch.Size([768, 2304]) cpu 6912\n",
      "65 torch.Size([2304]) cpu 9\n",
      "66 torch.Size([768, 768]) cpu 2304\n",
      "67 torch.Size([768]) cpu 3\n",
      "68 torch.Size([768]) cpu 3\n",
      "69 torch.Size([768]) cpu 3\n",
      "70 torch.Size([768, 3072]) cpu 9216\n",
      "71 torch.Size([3072]) cpu 12\n",
      "72 torch.Size([3072, 768]) cpu 9216\n",
      "73 torch.Size([768]) cpu 3\n",
      "74 torch.Size([768]) cpu 3\n",
      "75 torch.Size([768]) cpu 3\n",
      "76 torch.Size([768, 2304]) cpu 6912\n",
      "77 torch.Size([2304]) cpu 9\n",
      "78 torch.Size([768, 768]) cpu 2304\n",
      "79 torch.Size([768]) cpu 3\n",
      "80 torch.Size([768]) cpu 3\n",
      "81 torch.Size([768]) cpu 3\n",
      "82 torch.Size([768, 3072]) cpu 9216\n",
      "83 torch.Size([3072]) cpu 12\n",
      "84 torch.Size([3072, 768]) cpu 9216\n",
      "85 torch.Size([768]) cpu 3\n",
      "86 torch.Size([768]) cpu 3\n",
      "87 torch.Size([768]) cpu 3\n",
      "88 torch.Size([768, 2304]) cpu 6912\n",
      "89 torch.Size([2304]) cpu 9\n",
      "90 torch.Size([768, 768]) cpu 2304\n",
      "91 torch.Size([768]) cpu 3\n",
      "92 torch.Size([768]) cpu 3\n",
      "93 torch.Size([768]) cpu 3\n",
      "94 torch.Size([768, 3072]) cpu 9216\n",
      "95 torch.Size([3072]) cpu 12\n",
      "96 torch.Size([3072, 768]) cpu 9216\n",
      "97 torch.Size([768]) cpu 3\n",
      "98 torch.Size([768]) cpu 3\n",
      "99 torch.Size([768]) cpu 3\n",
      "100 torch.Size([768, 2304]) cpu 6912\n",
      "101 torch.Size([2304]) cpu 9\n",
      "102 torch.Size([768, 768]) cpu 2304\n",
      "103 torch.Size([768]) cpu 3\n",
      "104 torch.Size([768]) cpu 3\n",
      "105 torch.Size([768]) cpu 3\n",
      "106 torch.Size([768, 3072]) cpu 9216\n",
      "107 torch.Size([3072]) cpu 12\n",
      "108 torch.Size([3072, 768]) cpu 9216\n",
      "109 torch.Size([768]) cpu 3\n",
      "110 torch.Size([768]) cpu 3\n",
      "111 torch.Size([768]) cpu 3\n",
      "112 torch.Size([768, 2304]) cpu 6912\n",
      "113 torch.Size([2304]) cpu 9\n",
      "114 torch.Size([768, 768]) cpu 2304\n",
      "115 torch.Size([768]) cpu 3\n",
      "116 torch.Size([768]) cpu 3\n",
      "117 torch.Size([768]) cpu 3\n",
      "118 torch.Size([768, 3072]) cpu 9216\n",
      "119 torch.Size([3072]) cpu 12\n",
      "120 torch.Size([3072, 768]) cpu 9216\n",
      "121 torch.Size([768]) cpu 3\n",
      "122 torch.Size([768]) cpu 3\n",
      "123 torch.Size([768]) cpu 3\n",
      "124 torch.Size([768, 2304]) cpu 6912\n",
      "125 torch.Size([2304]) cpu 9\n",
      "126 torch.Size([768, 768]) cpu 2304\n",
      "127 torch.Size([768]) cpu 3\n",
      "128 torch.Size([768]) cpu 3\n",
      "129 torch.Size([768]) cpu 3\n",
      "130 torch.Size([768, 3072]) cpu 9216\n",
      "131 torch.Size([3072]) cpu 12\n",
      "132 torch.Size([3072, 768]) cpu 9216\n",
      "133 torch.Size([768]) cpu 3\n",
      "134 torch.Size([768]) cpu 3\n",
      "135 torch.Size([768]) cpu 3\n",
      "136 torch.Size([768, 2304]) cpu 6912\n",
      "137 torch.Size([2304]) cpu 9\n",
      "138 torch.Size([768, 768]) cpu 2304\n",
      "139 torch.Size([768]) cpu 3\n",
      "140 torch.Size([768]) cpu 3\n",
      "141 torch.Size([768]) cpu 3\n",
      "142 torch.Size([768, 3072]) cpu 9216\n",
      "143 torch.Size([3072]) cpu 12\n",
      "144 torch.Size([3072, 768]) cpu 9216\n",
      "145 torch.Size([768]) cpu 3\n",
      "146 torch.Size([768]) cpu 3\n",
      "147 torch.Size([768]) cpu 3\n"
     ]
    }
   ],
   "source": [
    "for i, par in enumerate(model.parameters()):\n",
    "    print(i, par.shape, par.device, par.element_size() * par.nelement() // 1024)"
   ]
  },
  {
   "cell_type": "code",
   "execution_count": 3,
   "metadata": {},
   "outputs": [
    {
     "name": "stdout",
     "output_type": "stream",
     "text": [
      "torch.Size([1, 1946, 768])\n"
     ]
    }
   ],
   "source": [
    "emb = tfmclassifier([\"этот текст\"], model, tokenizer, gen_len=1946, device='cpu')"
   ]
  },
  {
   "cell_type": "code",
   "execution_count": 6,
   "metadata": {},
   "outputs": [
    {
     "data": {
      "text/plain": [
       "torch.Size([1, 768])"
      ]
     },
     "execution_count": 6,
     "metadata": {},
     "output_type": "execute_result"
    }
   ],
   "source": [
    "emb.size()"
   ]
  },
  {
   "cell_type": "code",
   "execution_count": 8,
   "metadata": {},
   "outputs": [
    {
     "name": "stdout",
     "output_type": "stream",
     "text": [
      "[None]\n"
     ]
    }
   ],
   "source": [
    "a = (1, None)\n",
    "print(list(a[1:]))"
   ]
  },
  {
   "cell_type": "code",
   "execution_count": 10,
   "metadata": {},
   "outputs": [
    {
     "ename": "KeyError",
     "evalue": "'allocated_bytes.all.current'",
     "output_type": "error",
     "traceback": [
      "\u001b[1;31m---------------------------------------------------------------------------\u001b[0m",
      "\u001b[1;31mKeyError\u001b[0m                                  Traceback (most recent call last)",
      "\u001b[1;32m<ipython-input-10-21d069c4b511>\u001b[0m in \u001b[0;36m<module>\u001b[1;34m\u001b[0m\n\u001b[0;32m      1\u001b[0m \u001b[1;32mimport\u001b[0m \u001b[0mtorch\u001b[0m\u001b[1;33m\u001b[0m\u001b[1;33m\u001b[0m\u001b[0m\n\u001b[1;32m----> 2\u001b[1;33m \u001b[0mprint\u001b[0m\u001b[1;33m(\u001b[0m\u001b[0mtorch\u001b[0m\u001b[1;33m.\u001b[0m\u001b[0mcuda\u001b[0m\u001b[1;33m.\u001b[0m\u001b[0mmemory_stats\u001b[0m\u001b[1;33m(\u001b[0m\u001b[1;33m)\u001b[0m\u001b[1;33m[\u001b[0m\u001b[1;34m'allocated_bytes.all.current'\u001b[0m\u001b[1;33m]\u001b[0m \u001b[1;33m//\u001b[0m \u001b[1;36m1024\u001b[0m \u001b[1;33m//\u001b[0m \u001b[1;36m1024\u001b[0m\u001b[1;33m)\u001b[0m\u001b[1;33m\u001b[0m\u001b[1;33m\u001b[0m\u001b[0m\n\u001b[0m",
      "\u001b[1;31mKeyError\u001b[0m: 'allocated_bytes.all.current'"
     ]
    }
   ],
   "source": [
    "import torch\n",
    "print(torch.cuda.memory_stats()['allocated_bytes.all.current'] // 1024 // 1024)"
   ]
  },
  {
   "cell_type": "code",
   "execution_count": null,
   "metadata": {},
   "outputs": [],
   "source": [
    "model.devi"
   ]
  }
 ],
 "metadata": {
  "interpreter": {
   "hash": "2d3a13fa35461c6d7f441fbb3d93fc4f14860aa527e8f914775d5e57b8364c02"
  },
  "kernelspec": {
   "display_name": "Python 3.9.5 64-bit ('tf': conda)",
   "language": "python",
   "name": "python3"
  },
  "language_info": {
   "codemirror_mode": {
    "name": "ipython",
    "version": 3
   },
   "file_extension": ".py",
   "mimetype": "text/x-python",
   "name": "python",
   "nbconvert_exporter": "python",
   "pygments_lexer": "ipython3",
   "version": "3.9.5"
  },
  "orig_nbformat": 4
 },
 "nbformat": 4,
 "nbformat_minor": 2
}
