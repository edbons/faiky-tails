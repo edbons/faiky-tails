{
 "cells": [
  {
   "cell_type": "code",
   "execution_count": 14,
   "metadata": {},
   "outputs": [],
   "source": [
    "# from src.model.data_loader import ParagraphDataset\n",
    "from transformers import GPT2Tokenizer, GPT2LMHeadModel\n",
    "import torch\n",
    "from torch.utils.data import Dataset, DataLoader\n",
    "import pickle\n",
    "from src.model.loss import ParagraphLoss\n",
    "from transformers import AdamW\n",
    "from tqdm import tqdm\n",
    "import math\n",
    "from src.model.logger import Logger\n",
    "import os"
   ]
  },
  {
   "cell_type": "code",
   "execution_count": 15,
   "metadata": {},
   "outputs": [],
   "source": [
    "class ParagraphDataset(Dataset):\n",
    "    def __init__(self, data_file, encoder, max_size=None, n_ctx=102, n_gen=401, include_neigh=False,\n",
    "                 include_discourse_type=True, include_kw=True, dim=0 ,debug_mode=False):\n",
    "        with open(data_file, \"rb\") as f:\n",
    "            self.data = f.readlines()\n",
    "\n",
    "        if include_neigh:\n",
    "            self.prev = []\n",
    "            fn = \".\".join(data_file.split(\".\")[:-1]) + \"_gpt2.pkl\"\n",
    "            if debug_mode:\n",
    "                fn = \".\".join(data_file.split(\".\")[:-1]) + \"_gpt.pkl\"\n",
    "            with open(fn, 'rb') as fp:\n",
    "                for k in range(len(self.data)):\n",
    "                    temp = pickle.load(fp)\n",
    "                    assert temp[0] == k and temp[1] == self.data[k].decode('utf-8', 'ignore').split(\"\\t\")[-1].replace(\n",
    "                        \"<o>\", \"\").strip()\n",
    "                    self.prev.append(temp[2])\n",
    "        else:\n",
    "            self.prev = None\n",
    "\n",
    "        self.dids = []\n",
    "        for d in range(1, len(self.data)):\n",
    "            t = self.data[d].decode(\"utf-8\", \"ignore\").strip().split('\\t')\n",
    "            if len(t) == 7 and t[5].replace(\"<o>\", \"\").strip() != \"\":\n",
    "                try:\n",
    "                    x, y = int(t[0].split(\"_\")[-1]), int(t[4])\n",
    "                    self.dids.append(d)\n",
    "                except:\n",
    "                    pass\n",
    "\n",
    "        if max_size is not None:\n",
    "            self.dids = self.dids[:max_size]\n",
    "        self.encoder = encoder\n",
    "        self.ctx = n_ctx - 2\n",
    "        self.gen = n_gen - 1\n",
    "        self.dim = dim\n",
    "        self.len = len(self.data)\n",
    "        self.include_neigh = include_neigh\n",
    "        self.include_discourse_type = include_discourse_type\n",
    "        self.include_kw = include_kw\n",
    "\n",
    "\n",
    "    def __getitem__(self, index):\n",
    "        idx = self.dids[index]\n",
    "        csv_data = self.data[idx].decode(\"utf-8\", \"ignore\").strip().split('\\t')\n",
    "        kws = csv_data[2].split(\"[SEP]\")\n",
    "        # print(self.encoder.encode(csv_data[5]))\n",
    "        tgt_phrase = self.encoder.encode(csv_data[5].replace(\"<o>\", \"\"),  add_special_tokens=False)[:self.gen] # add_prefix_space=True,\n",
    "        start = torch.LongTensor([self.encoder.bos_token_id])\n",
    "        clstok = torch.LongTensor([self.encoder.cls_token_id])\n",
    "        end = torch.LongTensor([self.encoder.eos_token_id])\n",
    "        tstart = torch.LongTensor([self.encoder.convert_tokens_to_ids('_t_')])\n",
    "        istart = torch.LongTensor([self.encoder.convert_tokens_to_ids('_i_')])\n",
    "        bstart = torch.LongTensor([self.encoder.convert_tokens_to_ids('_b_')])\n",
    "        cstart = torch.LongTensor([self.encoder.convert_tokens_to_ids('_c_')])\n",
    "        keytok = torch.LongTensor([self.encoder.convert_tokens_to_ids('_kw_')])\n",
    "        endkeytok = torch.LongTensor([self.encoder.convert_tokens_to_ids('_endkw_')])\n",
    "        \n",
    "        if self.include_discourse_type:\n",
    "            starttyptok = bstart\n",
    "            if int(csv_data[0].split(\"_\")[-1]) == 0:\n",
    "                starttyptok = istart\n",
    "            elif int(csv_data[0].split(\"_\")[-1]) == int(csv_data[4]) - 1:\n",
    "                starttyptok = cstart\n",
    "        else:\n",
    "            starttyptok = clstok\n",
    "\n",
    "        pad_output = torch.zeros(self.ctx + self.gen + 3).long()\n",
    "        mask_output = torch.zeros(self.ctx + self.gen + 3).long()\n",
    "\n",
    "        pad_output[0] = start\n",
    "        if self.include_kw:\n",
    "            i = 1\n",
    "            for k in kws:\n",
    "                if i - 1 >= self.ctx:\n",
    "                    break\n",
    "                enck = self.encoder.encode(k.strip(),  add_special_tokens=False)[:self.ctx - i] # add_prefix_space=True,\n",
    "                # print(enck, i)\n",
    "                pad_output[i:i + len(enck)] = torch.LongTensor(enck)\n",
    "                pad_output[i + len(enck)] = keytok\n",
    "                i += len(enck) + 1\n",
    "            pad_output[i - 1] = endkeytok\n",
    "            mask_output[0:i] = torch.ones(i).long()\n",
    "\n",
    "        pad_output[self.ctx + 1] = starttyptok if self.include_discourse_type else clstok  # [101] -> discourse tag\n",
    "        pad_output[self.ctx + 1 + 1:self.ctx + 1 + 1 + len(tgt_phrase)] = torch.LongTensor(tgt_phrase)\n",
    "        pad_output[self.ctx + 1 + 1 + len(tgt_phrase)] = end\n",
    "\n",
    "        # Mask\n",
    "        mask_output[self.ctx + 1:self.ctx + 1 + len(tgt_phrase) + 2] = torch.ones(len(tgt_phrase) + 2).long()\n",
    "\n",
    "        if self.include_neigh:\n",
    "            n = torch.FloatTensor(self.prev[idx].flatten())\n",
    "        else:\n",
    "            n = torch.zeros(self.dim, dtype=torch.float64)\n",
    "        return pad_output, mask_output, n\n",
    "\n",
    "    def __len__(self):\n",
    "        return len(self.dids)"
   ]
  },
  {
   "cell_type": "code",
   "execution_count": 16,
   "metadata": {},
   "outputs": [
    {
     "data": {
      "text/plain": [
       "9"
      ]
     },
     "execution_count": 16,
     "metadata": {},
     "output_type": "execute_result"
    }
   ],
   "source": [
    "encoder = GPT2Tokenizer.from_pretrained(\"sberbank-ai/rugpt3small_based_on_gpt2\", add_prefix_space=True)\n",
    "\n",
    "encoder.add_special_tokens({'bos_token':'_start_',\n",
    "                                     'cls_token':'_classify_',\n",
    "                                     'eos_token':'_end_',\n",
    "                                     'additional_special_tokens': ['_kw_','_endkw_', '_t_', '_i_', '_b_', '_c_']\n",
    "                                    })"
   ]
  },
  {
   "cell_type": "code",
   "execution_count": 17,
   "metadata": {},
   "outputs": [],
   "source": [
    "config = {\n",
    "    \"include_kw\": True,\n",
    "    \"include_discourse_type\": True,\n",
    "    \"max_size\": 100,\n",
    "    \"n_ctx\": 102,\n",
    "    \"gen_len\": 1946,\n",
    "    \"include_neigh\": False,\n",
    "    \"dim\": 768,\n",
    "    \"lr\": 6.25e-5,\n",
    "    \"b1\": 0.9,\n",
    "    \"b2\": 0.999,\n",
    "    \"e\": 1e-8,\n",
    "    \"num_epochs\": 1\n",
    "}"
   ]
  },
  {
   "cell_type": "code",
   "execution_count": 18,
   "metadata": {},
   "outputs": [],
   "source": [
    "train_dataset = ParagraphDataset('dataset/plot/train_encoded.csv', encoder, max_size=config[\"max_size\"], n_ctx=config[\"n_ctx\"], n_gen=config[\"gen_len\"],\n",
    "                               include_neigh=config[\"include_neigh\"], include_discourse_type=config[\"include_discourse_type\"], \n",
    "                               include_kw=config[\"include_kw\"], dim=config[\"dim\"])\n",
    "\n",
    "test_dataset = ParagraphDataset('dataset/plot/val_encoded.csv', encoder, max_size=config[\"max_size\"], n_ctx=config[\"n_ctx\"], n_gen=config[\"gen_len\"],\n",
    "                               include_neigh=config[\"include_neigh\"], include_discourse_type=config[\"include_discourse_type\"], \n",
    "                               include_kw=config[\"include_kw\"], dim=config[\"dim\"])"
   ]
  },
  {
   "cell_type": "code",
   "execution_count": 19,
   "metadata": {},
   "outputs": [],
   "source": [
    "train_loader = DataLoader(train_dataset, batch_size=2, shuffle=True, num_workers=1, drop_last=True)\n",
    "val_loader = DataLoader(test_dataset, batch_size=2, shuffle=False, num_workers=1, drop_last=True)"
   ]
  },
  {
   "cell_type": "code",
   "execution_count": 20,
   "metadata": {},
   "outputs": [],
   "source": [
    "model = GPT2LMHeadModel.from_pretrained(\"sberbank-ai/rugpt3small_based_on_gpt2\", output_hidden_states=True)"
   ]
  },
  {
   "cell_type": "code",
   "execution_count": 21,
   "metadata": {},
   "outputs": [],
   "source": [
    "def run_batch(model, args, device, compute_loss_fct):\n",
    "    for arg in args:\n",
    "        if arg is not None:\n",
    "            arg = arg.to(device)\n",
    "\n",
    "    output = model(*args)\n",
    "    \n",
    "    args[0] = args[0].to(device)\n",
    "    args[1] = args[1].to(device)\n",
    "    \n",
    "    allloss = compute_loss_fct(output, args[0], args[1])\n",
    "    \n",
    "    return allloss.mean()"
   ]
  },
  {
   "cell_type": "code",
   "execution_count": 22,
   "metadata": {},
   "outputs": [],
   "source": [
    "def run_epoch(bestloss, start_iter, running_loss, model, compute_loss_fct, model_opt, train_loader, val_loader, train_log_interval, val_log_interval, device, beam, gen_len, k,p, decoding_strategy, accum_iter, desc_str, save_dir, logger, text_encoder, show_progress=False, summary_loss=None, my_local_dir='checkpoints_local'):\n",
    "    '''\n",
    "    Run a single epoch, log results, and save best checkpoint\n",
    "    '''\n",
    "    if show_progress:\n",
    "        train_bar = tqdm(iterable=train_loader, desc=desc_str)\n",
    "    else:\n",
    "        train_bar = train_loader\n",
    "\n",
    "    for i, batchargs in enumerate(train_bar, start_iter):\n",
    "        \n",
    "        num_updates = i // accum_iter\n",
    "        model.train()\n",
    "        loss = run_batch(model, batchargs, device, compute_loss_fct)\n",
    "\n",
    "        loss.backward()\n",
    "\n",
    "        running_loss += float(loss.detach().item())\n",
    "        if show_progress:\n",
    "            train_bar.set_postfix(loss=running_loss / ((train_log_interval * accum_iter) if num_updates % train_log_interval == 0 and num_updates != 0 else i % (train_log_interval * accum_iter)))\n",
    "\n",
    "        if i % accum_iter == 0:\n",
    "            model_opt.step()\n",
    "            model_opt.zero_grad()\n",
    "            torch.cuda.empty_cache()\n",
    "        if num_updates % train_log_interval == 0 and i % accum_iter == 0:\n",
    "            logger.scalar_summary(\"Training\", num=running_loss, denom=(train_log_interval * accum_iter), step=num_updates)\n",
    "            print(\"training loss %.2f\" % (running_loss/float(train_log_interval * accum_iter)))\n",
    "            running_loss = 0\n",
    "\n",
    "        # if num_updates % 1000 == 0 and i % accum_iter == 0:\n",
    "        #     val_loss, scores = evaluate(val_loader, train_log_interval, model, text_encoder, device, beam, gen_len, k, p, decoding_strategy, compute_loss_fct, min_len=args.min_len)\n",
    "\n",
    "        #     logger.scalar_summary(\"Validation\", num=val_loss, denom=len(val_loader), step=num_updates)\n",
    "        #     # if sum(val_loss) < bestloss or bestloss == -1:\n",
    "        #     lv = get_loss_value(val_loss, len(val_loader))\n",
    "        #     if (not math.isnan(lv)) and (bestloss == -1 or lv < bestloss):\n",
    "        #         bestloss = lv\n",
    "        #         save_checkpoint(i + 1, running_loss, model.state_dict(), model_opt.state_dict(), save_dir, my_local_dir)\n",
    "\n",
    "\n",
    "    # val_loss, scores = evaluate(val_loader, train_log_interval, model, text_encoder, device, beam, gen_len, k, p, decoding_strategy, compute_loss_fct, min_len=args.min_len)\n",
    "    # for key, value in scores.items():\n",
    "    #     for key2, value2 in value.items():\n",
    "    #         logger.rouge_summary(\"{}/{}\".format(key, key2), value2, num_updates)\n",
    "    # print(\"Validation rouge: \" + str(scores.items()))\n",
    "    # logger.scalar_summary(\"Validation\", num=val_loss, denom=len(val_loader), step=num_updates)\n",
    "    # lv = get_loss_value(val_loss, len(val_loader))\n",
    "    # if (not math.isnan(lv)) and (bestloss == -1 or lv < bestloss):\n",
    "    #     bestloss = lv\n",
    "    #     save_checkpoint(i + 1, running_loss, model.state_dict(), model_opt.state_dict(), save_dir, my_local_dir)\n",
    "\n",
    "\n",
    "    torch.cuda.empty_cache()\n",
    "    return i + 1, running_loss, bestloss, num_updates # , lv"
   ]
  },
  {
   "cell_type": "code",
   "execution_count": 23,
   "metadata": {},
   "outputs": [
    {
     "name": "stdout",
     "output_type": "stream",
     "text": [
      "Creating directories\n"
     ]
    }
   ],
   "source": [
    "output_dir = 'savedir'\n",
    "experiment_name = 'gpt3'\n",
    "print(\"Creating directories\")\n",
    "os.makedirs(output_dir, exist_ok=True)\n",
    "os.makedirs(os.path.join(output_dir, experiment_name), exist_ok=True)\n",
    "os.makedirs(os.path.join(output_dir, experiment_name), exist_ok=True)\n",
    "\n",
    "\n",
    "save_dir = os.path.join(output_dir, experiment_name, \"checkpoints\")\n",
    "save_dir_local = \"checkpoints_local\"\n",
    "desc = \"Desc\"\n",
    "data_dir = 'dataset/plot'\n",
    "log_dir = os.path.join(output_dir, experiment_name, \"logs\")\n",
    "os.makedirs(log_dir, exist_ok=True)\n",
    "os.makedirs(save_dir, exist_ok=True)\n",
    "os.makedirs(save_dir_local, exist_ok=True)"
   ]
  },
  {
   "cell_type": "code",
   "execution_count": 24,
   "metadata": {},
   "outputs": [],
   "source": [
    "train_log_interval = 4\n",
    "val_log_interval = 4\n",
    "beam = 0\n",
    "p = 90\n",
    "k = 0\n",
    "decoding_strategy = 0\n",
    "accum_iter = 4\n",
    "device = torch.device(\"cuda\" if torch.cuda.is_available() else \"cpu\")\n",
    "logger = Logger(log_dir)"
   ]
  },
  {
   "cell_type": "code",
   "execution_count": 25,
   "metadata": {},
   "outputs": [],
   "source": [
    "criterion = torch.nn.CrossEntropyLoss(reduction=\"none\")\n",
    "\n",
    "model_opt = AdamW(filter(lambda p : p.requires_grad, model.parameters()),\n",
    "                        lr=config['lr'],\n",
    "                        betas=(config['b1'], config['b2']),\n",
    "                        eps=config['e'])\n",
    "\n",
    "\n",
    "\n",
    "lm_loss = ParagraphLoss(criterion, n_ctx=config[\"n_ctx\"], gen_len=config[\"gen_len\"])"
   ]
  },
  {
   "cell_type": "code",
   "execution_count": 26,
   "metadata": {},
   "outputs": [
    {
     "name": "stderr",
     "output_type": "stream",
     "text": [
      "FT Training Epoch [1/1]:   0%|          | 0/50 [00:00<?, ?it/s]"
     ]
    }
   ],
   "source": [
    "bestloss = -1\n",
    "start_iter, running_loss = 1,0\n",
    "prevloss = 1000\n",
    "\n",
    "for i in range(config['num_epochs']):\n",
    "    start_iter, running_loss, bestloss, updates, val_loss1 = run_epoch(bestloss, start_iter, running_loss, model, lm_loss, model_opt, train_loader, val_loader, train_log_interval, val_log_interval, device, beam, config['gen_len'], k, p, decoding_strategy, accum_iter, \"FT Training Epoch [{}/{}]\".format(i + 1, config['num_epochs']), save_dir, logger, encoder, show_progress=True, my_local_dir='save_dir_local')\n",
    "    print(\"VAL LOSS: \", str(val_loss1))\n",
    "    if val_loss1 > prevloss or math.isnan(val_loss1):\n",
    "        break\n",
    "    prevloss = val_loss1"
   ]
  }
 ],
 "metadata": {
  "interpreter": {
   "hash": "2d3a13fa35461c6d7f441fbb3d93fc4f14860aa527e8f914775d5e57b8364c02"
  },
  "kernelspec": {
   "display_name": "Python 3.9.5 64-bit ('tf': conda)",
   "language": "python",
   "name": "python3"
  },
  "language_info": {
   "codemirror_mode": {
    "name": "ipython",
    "version": 3
   },
   "file_extension": ".py",
   "mimetype": "text/x-python",
   "name": "python",
   "nbconvert_exporter": "python",
   "pygments_lexer": "ipython3",
   "version": "3.9.5"
  },
  "orig_nbformat": 4
 },
 "nbformat": 4,
 "nbformat_minor": 2
}
