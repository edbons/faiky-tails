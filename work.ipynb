{
 "cells": [
  {
   "cell_type": "code",
   "execution_count": 1,
   "metadata": {},
   "outputs": [],
   "source": [
    "import pandas as pd\n",
    "from src.model.generate_stories import tfmclassifier"
   ]
  },
  {
   "cell_type": "code",
   "execution_count": 2,
   "metadata": {},
   "outputs": [
    {
     "data": {
      "text/html": [
       "<div>\n",
       "<style scoped>\n",
       "    .dataframe tbody tr th:only-of-type {\n",
       "        vertical-align: middle;\n",
       "    }\n",
       "\n",
       "    .dataframe tbody tr th {\n",
       "        vertical-align: top;\n",
       "    }\n",
       "\n",
       "    .dataframe thead th {\n",
       "        text-align: right;\n",
       "    }\n",
       "</style>\n",
       "<table border=\"1\" class=\"dataframe\">\n",
       "  <thead>\n",
       "    <tr style=\"text-align: right;\">\n",
       "      <th></th>\n",
       "      <th>[ID]</th>\n",
       "      <th>[KEY/ABSTRACT]</th>\n",
       "      <th>[KEYWORDS]</th>\n",
       "      <th>[DISCOURSE (T/I/B/C)]</th>\n",
       "      <th>[NUM_PARAGRAPHS]</th>\n",
       "      <th>[PARAGRAPH]</th>\n",
       "      <th>[PREVIOUS_PARAGRAPH]</th>\n",
       "    </tr>\n",
       "  </thead>\n",
       "  <tbody>\n",
       "    <tr>\n",
       "      <th>0</th>\n",
       "      <td>plot-1_0</td>\n",
       "      <td>K</td>\n",
       "      <td>арысь поле[SEP]а в падчерицыно платье нарядила...</td>\n",
       "      <td>I</td>\n",
       "      <td>5</td>\n",
       "      <td>У старика была дочь-красавица, жил он с нею ти...</td>\n",
       "      <td>NaN</td>\n",
       "    </tr>\n",
       "    <tr>\n",
       "      <th>1</th>\n",
       "      <td>plot-1_1</td>\n",
       "      <td>K</td>\n",
       "      <td>арысь поле[SEP]а в падчерицыно платье нарядила...</td>\n",
       "      <td>B</td>\n",
       "      <td>5</td>\n",
       "      <td>Невзлюбила она падчерицу, пристала к старику</td>\n",
       "      <td>У старика была дочь-красавица, жил он с нею ти...</td>\n",
       "    </tr>\n",
       "    <tr>\n",
       "      <th>2</th>\n",
       "      <td>plot-1_2</td>\n",
       "      <td>K</td>\n",
       "      <td>арысь поле[SEP]а в падчерицыно платье нарядила...</td>\n",
       "      <td>B</td>\n",
       "      <td>5</td>\n",
       "      <td>- Прогони ее из дому, чтоб я ее и в глаза не в...</td>\n",
       "      <td>Невзлюбила она падчерицу, пристала к старику</td>\n",
       "    </tr>\n",
       "    <tr>\n",
       "      <th>3</th>\n",
       "      <td>plot-1_3</td>\n",
       "      <td>K</td>\n",
       "      <td>арысь поле[SEP]а в падчерицыно платье нарядила...</td>\n",
       "      <td>B</td>\n",
       "      <td>5</td>\n",
       "      <td>Старик взял да и выдал свою дочку замуж</td>\n",
       "      <td>- Прогони ее из дому, чтоб я ее и в глаза не в...</td>\n",
       "    </tr>\n",
       "    <tr>\n",
       "      <th>4</th>\n",
       "      <td>plot-1_4</td>\n",
       "      <td>K</td>\n",
       "      <td>арысь поле[SEP]а в падчерицыно платье нарядила...</td>\n",
       "      <td>C</td>\n",
       "      <td>5</td>\n",
       "      <td>Живет она с мужем да радуется, и родился у них...</td>\n",
       "      <td>Старик взял да и выдал свою дочку замуж</td>\n",
       "    </tr>\n",
       "  </tbody>\n",
       "</table>\n",
       "</div>"
      ],
      "text/plain": [
       "       [ID] [KEY/ABSTRACT]                                         [KEYWORDS]  \\\n",
       "0  plot-1_0              K  арысь поле[SEP]а в падчерицыно платье нарядила...   \n",
       "1  plot-1_1              K  арысь поле[SEP]а в падчерицыно платье нарядила...   \n",
       "2  plot-1_2              K  арысь поле[SEP]а в падчерицыно платье нарядила...   \n",
       "3  plot-1_3              K  арысь поле[SEP]а в падчерицыно платье нарядила...   \n",
       "4  plot-1_4              K  арысь поле[SEP]а в падчерицыно платье нарядила...   \n",
       "\n",
       "  [DISCOURSE (T/I/B/C)]  [NUM_PARAGRAPHS]  \\\n",
       "0                     I                 5   \n",
       "1                     B                 5   \n",
       "2                     B                 5   \n",
       "3                     B                 5   \n",
       "4                     C                 5   \n",
       "\n",
       "                                         [PARAGRAPH]  \\\n",
       "0  У старика была дочь-красавица, жил он с нею ти...   \n",
       "1       Невзлюбила она падчерицу, пристала к старику   \n",
       "2  - Прогони ее из дому, чтоб я ее и в глаза не в...   \n",
       "3            Старик взял да и выдал свою дочку замуж   \n",
       "4  Живет она с мужем да радуется, и родился у них...   \n",
       "\n",
       "                                [PREVIOUS_PARAGRAPH]  \n",
       "0                                                NaN  \n",
       "1  У старика была дочь-красавица, жил он с нею ти...  \n",
       "2       Невзлюбила она падчерицу, пристала к старику  \n",
       "3  - Прогони ее из дому, чтоб я ее и в глаза не в...  \n",
       "4            Старик взял да и выдал свою дочку замуж  "
      ]
     },
     "execution_count": 2,
     "metadata": {},
     "output_type": "execute_result"
    }
   ],
   "source": [
    "df = pd.read_csv('dataset/plot/tails.kwRAKE.csv', sep='\\t')\n",
    "df.head()"
   ]
  },
  {
   "cell_type": "code",
   "execution_count": 3,
   "metadata": {},
   "outputs": [
    {
     "data": {
      "text/plain": [
       "B    1026\n",
       "I     360\n",
       "C     360\n",
       "Name: [DISCOURSE (T/I/B/C)], dtype: int64"
      ]
     },
     "execution_count": 3,
     "metadata": {},
     "output_type": "execute_result"
    }
   ],
   "source": [
    "df['[DISCOURSE (T/I/B/C)]'].value_counts()"
   ]
  },
  {
   "cell_type": "code",
   "execution_count": 4,
   "metadata": {},
   "outputs": [
    {
     "data": {
      "text/plain": [
       "'У старика была дочь-красавица, жил он с нею тихо и мирно, пока не женился на другой бабе, а та баба была злая ведьма'"
      ]
     },
     "execution_count": 4,
     "metadata": {},
     "output_type": "execute_result"
    }
   ],
   "source": [
    "df['[PARAGRAPH]'][0]"
   ]
  },
  {
   "cell_type": "code",
   "execution_count": 5,
   "metadata": {},
   "outputs": [],
   "source": [
    "df['[PREVIOUS_PARAGRAPH]'].fillna('dummy', inplace=True)"
   ]
  },
  {
   "cell_type": "code",
   "execution_count": 6,
   "metadata": {},
   "outputs": [
    {
     "name": "stdout",
     "output_type": "stream",
     "text": [
      "1746\n"
     ]
    }
   ],
   "source": [
    "prevpars = df['[PREVIOUS_PARAGRAPH]'].to_list()\n",
    "print(len(prevpars))"
   ]
  },
  {
   "cell_type": "code",
   "execution_count": 7,
   "metadata": {},
   "outputs": [
    {
     "name": "stderr",
     "output_type": "stream",
     "text": [
      "Special tokens have been added in the vocabulary, make sure the associated word embeddings are fine-tuned or trained.\n",
      "C:\\Users\\edbon\\anaconda3\\envs\\tf\\lib\\site-packages\\transformers\\models\\auto\\modeling_auto.py:660: FutureWarning: The class `AutoModelWithLMHead` is deprecated and will be removed in a future version. Please use `AutoModelForCausalLM` for causal language models, `AutoModelForMaskedLM` for masked language models and `AutoModelForSeq2SeqLM` for encoder-decoder models.\n",
      "  warnings.warn(\n"
     ]
    }
   ],
   "source": [
    "from transformers import AutoTokenizer, AutoModelWithLMHead\n",
    "  \n",
    "tokenizer = AutoTokenizer.from_pretrained(\"sberbank-ai/rugpt3small_based_on_gpt2\")\n",
    "\n",
    "model = AutoModelWithLMHead.from_pretrained(\"sberbank-ai/rugpt3small_based_on_gpt2\")"
   ]
  },
  {
   "cell_type": "code",
   "execution_count": null,
   "metadata": {},
   "outputs": [],
   "source": [
    "output = [(0,0,0)]\n",
    "for i, par in enumerate(prevpars):\n",
    "    output.append((i, par, tfmclassifier(par, model, tokenizer, gen_len=922))) \n"
   ]
  }
 ],
 "metadata": {
  "interpreter": {
   "hash": "2d3a13fa35461c6d7f441fbb3d93fc4f14860aa527e8f914775d5e57b8364c02"
  },
  "kernelspec": {
   "display_name": "Python 3.9.5 64-bit ('tf': conda)",
   "language": "python",
   "name": "python3"
  },
  "language_info": {
   "codemirror_mode": {
    "name": "ipython",
    "version": 3
   },
   "file_extension": ".py",
   "mimetype": "text/x-python",
   "name": "python",
   "nbconvert_exporter": "python",
   "pygments_lexer": "ipython3",
   "version": "3.9.5"
  },
  "orig_nbformat": 4
 },
 "nbformat": 4,
 "nbformat_minor": 2
}
