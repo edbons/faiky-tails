{
 "cells": [
  {
   "cell_type": "code",
   "execution_count": 71,
   "metadata": {},
   "outputs": [],
   "source": [
    "import requests\n",
    "# from bs4 import BeautifulSoup\n",
    "import bs4\n",
    "import re\n",
    "import os\n",
    "from tqdm import tqdm\n",
    "import html5lib\n",
    "import pandas as pd"
   ]
  },
  {
   "cell_type": "code",
   "execution_count": 72,
   "metadata": {},
   "outputs": [],
   "source": [
    "root_url = 'http://az.lib.ru'\n",
    "prefix_tails = '/janr/index_janr_5'\n",
    "pages_root_count = 6\n",
    "ds_path = 'dataset/raw_other/'\n",
    "descr_file_path = os.path.join('dataset', 'description_other.txt')\n",
    "filtered_file_path = os.path.join('dataset', 'description_other_filtered.txt')"
   ]
  },
  {
   "cell_type": "code",
   "execution_count": 73,
   "metadata": {},
   "outputs": [],
   "source": [
    "rus_lit_urls = ['http://az.lib.ru/rating/litarea/index_1.shtml', \n",
    "           'http://az.lib.ru/rating/litarea/index_2.shtml', \n",
    "           'http://az.lib.ru/rating/litarea/index_4.shtml', \n",
    "           'http://az.lib.ru/rating/litarea/index_3.shtml']"
   ]
  },
  {
   "cell_type": "code",
   "execution_count": 74,
   "metadata": {},
   "outputs": [],
   "source": [
    "rus_authors = []\n",
    "rus_authors_filtered = ['zelinskij_f_f', 'kun_n_a', 'ershow_p_p', 'remizow_a_m']  # filter greek epic tails and other bad examples\n",
    "\n",
    "for url in rus_lit_urls:\n",
    "    try:\n",
    "        r = requests.get(url, headers={'Accept-Language': 'ru-RU,ru;q=0.5'})\n",
    "    except Exception:\n",
    "        print(f'Page {url} connection errors!')\n",
    "        break\n",
    "    else:\n",
    "        if r:\n",
    "            payload = bs4.BeautifulSoup(r.content, features='html5lib')                        \n",
    "            articles_dl = payload.find_all('dl')\n",
    "            if articles_dl:\n",
    "                for part in articles_dl:                \n",
    "                    for tag in part.children:\n",
    "                        if tag.name == 'a':\n",
    "                            author = re.findall(\"\\w{2,}\", tag[\"href\"])\n",
    "                            if author[0] not in rus_authors_filtered:                          \n",
    "                                rus_authors.extend(author)\n",
    "                "
   ]
  },
  {
   "cell_type": "code",
   "execution_count": 103,
   "metadata": {},
   "outputs": [],
   "source": [
    "for file in os.listdir(ds_path):\n",
    "    os.remove(os.path.join(ds_path, file)) "
   ]
  },
  {
   "cell_type": "code",
   "execution_count": 104,
   "metadata": {},
   "outputs": [],
   "source": [
    "if os.path.exists(descr_file_path):\n",
    "    os.remove(descr_file_path)\n",
    "descr_file = open(descr_file_path, 'a', encoding='utf-8')\n",
    "\n",
    "if os.path.exists(filtered_file_path):\n",
    "    os.remove(filtered_file_path)\n",
    "filtered_file = open(filtered_file_path, 'a', encoding='utf-8')"
   ]
  },
  {
   "cell_type": "code",
   "execution_count": 95,
   "metadata": {},
   "outputs": [],
   "source": [
    "def tag_text(tag: bs4.element.Tag):\n",
    "    return [\" \".join([string.replace('~', '').replace('--', '-') for string in tag.stripped_strings])]"
   ]
  },
  {
   "cell_type": "code",
   "execution_count": 96,
   "metadata": {},
   "outputs": [],
   "source": [
    "def postproccess_text(text: str):\n",
    "    text = re.sub('(\\[[\\w\\s]*\\])', \"\", text)\n",
    "    return text.strip()"
   ]
  },
  {
   "cell_type": "code",
   "execution_count": 97,
   "metadata": {},
   "outputs": [],
   "source": [
    "def add_par(input_data: list, output_data: list):\n",
    "    for tag in input_data:\n",
    "        if 'примечани' in tag.text.lower(): \n",
    "            break\n",
    "        elif 'КОММЕНТАРИ'.lower() in tag.text.lower(): \n",
    "            break\n",
    "        for child in tag.contents:\n",
    "            if child.name == 'i':\n",
    "                continue\n",
    "            elif 'Типография'.lower() in tag.text.lower():\n",
    "                continue\n",
    "            elif 'Оригинал находится здесь:'.lower() in tag.text.lower():\n",
    "                continue\n",
    "            elif 'Источник текста:'.lower() in tag.text.lower():\n",
    "                continue\n",
    "            elif 'В кн.:'.lower() in tag.text.lower():\n",
    "                continue\n",
    "            elif 'OCR'.lower() in tag.text.lower():\n",
    "                continue\n",
    "            elif 'Иллюстраци'.lower() in tag.text.lower():\n",
    "                continue\n",
    "            elif 'Издание книгопродавца'.lower() in tag.text.lower():\n",
    "                continue\n",
    "            elif 'Книга:'.lower() in tag.text.lower():\n",
    "                continue\n",
    "            elif 'Собрание сочинений'.lower() in tag.text.lower():\n",
    "                continue     \n",
    "            elif 'Набор:'.lower() in tag.text.lower():\n",
    "                continue\n",
    "            elif re.findall(' том.?\\d+', tag.text.lower()):\n",
    "                continue                       \n",
    "            elif child.name == 'div':\n",
    "                continue\n",
    "            elif child.name == 'font':\n",
    "                if len(child.contents) > 0 and child.contents[0].name is not None:\n",
    "                    continue\n",
    "                else:    \n",
    "                    output_data.extend(tag_text(tag))\n",
    "                    break\n",
    "            elif isinstance(child, bs4.element.Comment):\n",
    "                continue\n",
    "            elif isinstance(child, bs4.element.NavigableString):\n",
    "                if re.match(\"([А-Я]{1}\\.)\", str(child).strip()) is not None:  # skip started initials \"В. П. Авенариус -- Детские сказки\"\n",
    "                    continue\n",
    "                elif re.match('.*[a-zA-Z]{2}.*', str(child).strip()) is not None: # skip strings with 2 or more eng letters  \n",
    "                    continue\n",
    "                elif not re.findall('[\\w]', str(child).strip()):  # skip strings without words \"---------\"\n",
    "                    continue\n",
    "                elif re.findall('([1-2][0|7-9]\\d\\d)', str(child).strip()): # skip strings with years, examples \"1891\" \"1992\"\n",
    "                    continue\n",
    "                elif re.findall(' стр.', str(child).strip()):  # skip strings with pages count - 'Том 3, стр. 289 - 292.'\n",
    "                    continue\n",
    "                elif len(str(child).strip()) > 2:\n",
    "                    output_data.extend([str(child).strip()])\n",
    "                else:\n",
    "                    print('Fail child tag', type(child), repr(child))\n",
    "                    \n",
    "            else:\n",
    "                # print('Fail child tag', type(child), repr(child))\n",
    "                continue\n",
    "    "
   ]
  },
  {
   "cell_type": "code",
   "execution_count": null,
   "metadata": {},
   "outputs": [],
   "source": [
    "for i in range(1, pages_root_count + 1):\n",
    "    try:\n",
    "        r_url = f'{root_url}{prefix_tails}-{i}.shtml'\n",
    "        r = requests.get(r_url, headers={'Accept-Language': 'ru-RU,ru;q=0.5'})\n",
    "    except Exception:\n",
    "        print(f'Page {r_url} connection errors!')\n",
    "        break\n",
    "    else:\n",
    "        if r:\n",
    "            payload = bs4.BeautifulSoup(r.content, features='html5lib')                        \n",
    "            articles_li = payload.find_all('li')\n",
    "            urls = []\n",
    "            if articles_li:\n",
    "                for part in articles_li:                \n",
    "                    for tag in part.children:\n",
    "                        if tag.name == 'a' and 'text' in tag[\"href\"]:                            \n",
    "                            urls.append(tag[\"href\"])\n",
    "            \n",
    "            for url in urls:\n",
    "                author = re.findall(\"\\w{2,}\", url)[0]\n",
    "                if author in rus_authors:\n",
    "                    r = requests.get(f'{root_url}{url}', headers={'Accept-Language': 'ru-RU,ru;q=0.5'})\n",
    "                    if r:\n",
    "                        payload = bs4.BeautifulSoup(r.content, features='html5lib')\n",
    "                        title = re.sub('[^а-яА-Я\\-\\s]', '', payload.title.text).replace('Классика', '').strip()\n",
    "                        articles_dd = payload.find_all('dd')\n",
    "                        \n",
    "                        if articles_dd:\n",
    "                            pars = []\n",
    "                            add_par(articles_dd, pars)  \n",
    "                            if pars:\n",
    "                                text = '\\n'.join(pars)\n",
    "                                text = postproccess_text(text)\n",
    "                                \n",
    "                                if len(text.split()) < 2000:\n",
    "                                    descr_file.write(f'{title} | {len(text.split())} | {root_url}{url}\\n')\n",
    "                                \n",
    "                                    with open(os.path.join(ds_path, f'{title}.txt'), 'w', encoding='utf-8') as f:\n",
    "                                        f.write(text)\n",
    "                                else:\n",
    "                                    filtered_file.write(f'{title} | {len(text.split())} | {root_url}{url}\\n')\n",
    "                            else:\n",
    "                                print(f'Fail, cant find paragraphs: {title} | {root_url}{url}')\n",
    "descr_file.close()\n",
    "filtered_file.close()"
   ]
  },
  {
   "cell_type": "markdown",
   "metadata": {},
   "source": [
    "- Fail, cant find paragraphs: Замятин Евгений Иванович Арапы Церковь Божия | http://az.lib.ru/z/zamjatin_e_i/text_0140.shtml\n",
    "- Fail, cant find paragraphs: Лесков Николай Семенович Сказание о Федоре-христианине и о друге его Абраме-жидовине | http://az.lib.ru/l/leskow_n_s/text_0248.shtml\n",
    "- Fail, cant find paragraphs: Черный Саша Штабс-капитанская сласть | http://az.lib.ru/c/chernyj_s/text_0270.shtml\n",
    "- Fail, cant find paragraphs: Черный Саша Правдивая колбаса | http://az.lib.ru/c/chernyj_s/text_0280.shtml\n",
    "- Fail, cant find paragraphs: Киреевский Иван Васильевич Опал | http://az.lib.ru/k/kireewskij_i_w/text_0030.shtml\n",
    "- Fail, cant find paragraphs: Андреев Леонид Николаевич Сказочки не совсем для детей | http://az.lib.ru/a/andreew_l_n/text_0370.shtml\n",
    "- Fail, cant find paragraphs: Жуковский Василий Андреевич Война мышей и лягушек | http://az.lib.ru/z/zhukowskij_w_a/text_0060.shtml\n",
    "- Fail, cant find paragraphs: Одоевский Владимир Федорович Городок в табакерке | http://az.lib.ru/o/odoewskij_w_f/text_0044.shtml\n",
    "- Fail, cant find paragraphs: Лермонтов Михаил Юрьевич Ашик-Кериб | http://az.lib.ru/l/lermontow_m_j/text_0460.shtml\n",
    "- Fail child tag <class 'bs4.element.NavigableString'> ' да '\n",
    "- Fail child tag <class 'bs4.element.NavigableString'> ' да '\n",
    "- Fail child tag <class 'bs4.element.NavigableString'> 'на '\n",
    "- Fail child tag <class 'bs4.element.NavigableString'> 'да '\n",
    "- Fail child tag <class 'bs4.element.NavigableString'> 'в '\n",
    "- Fail child tag <class 'bs4.element.NavigableString'> 'в '\n",
    "- Fail, cant find paragraphs: Одоевский Владимир Федорович Необойднный дом | http://az.lib.ru/o/odoewskij_w_f/text_0092.shtml\n",
    "- Fail, cant find paragraphs: Жуковский Василий Андреевич Сказка о царе Берендее | http://az.lib.ru/z/zhukowskij_w_a/text_0040.shtml\n",
    "- Fail, cant find paragraphs: Одоевский Владимир Федорович Сказки дедушки Иринея | http://az.lib.ru/o/odoewskij_w_f/text_0310.shtml\n",
    "- Fail, cant find paragraphs: Черный Саша Антошина беда | http://az.lib.ru/c/chernyj_s/text_0260.shtml\n",
    "- Fail child tag <class 'bs4.element.NavigableString'> ' \\nи '\n",
    "- Fail child tag <class 'bs4.element.NavigableString'> '\\xa0\\xa0 Но '\n",
    "- Fail child tag <class 'bs4.element.NavigableString'> ' да '\n",
    "- Fail child tag <class 'bs4.element.NavigableString'> ' г.\\n'\n",
    "- Fail child tag <class 'bs4.element.NavigableString'> '\\xa0\\xa0 К'\n",
    "- Fail child tag <class 'bs4.element.NavigableString'> '\\xa0\\xa0 В\\n'\n",
    "- Fail, cant find paragraphs: Черский Леонид Федорович Хаджи-Агмат | http://az.lib.ru/c/cherskij_l_f/text_04_hadzhi-agmat.shtml\n",
    "- Fail, cant find paragraphs: Сомов Орест Михайлович В поле съезжаются родом не считаются | http://az.lib.ru/s/somow_o_m/text_0090.shtml"
   ]
  },
  {
   "cell_type": "code",
   "execution_count": 55,
   "metadata": {},
   "outputs": [],
   "source": [
    "descr_file.close()\n",
    "filtered_file.close()"
   ]
  },
  {
   "cell_type": "markdown",
   "metadata": {},
   "source": [
    "# test"
   ]
  },
  {
   "cell_type": "code",
   "execution_count": null,
   "metadata": {},
   "outputs": [],
   "source": [
    "# url = 'http://az.lib.ru/g/garshin_w_m/text_0080.shtml'\n",
    "url = 'http://az.lib.ru/a/awenarius_w_p/text_1905_drakonov_utes.shtml'\n",
    "\n",
    "\n",
    "try:\n",
    "    r = requests.get(url, headers={'Accept-Language': 'ru-RU,ru;q=0.5'})\n",
    "except Exception:\n",
    "    print(f'Page {url} connection errors!')\n",
    "else:\n",
    "    if r:\n",
    "        payload = bs4.BeautifulSoup(r.content, \"html5lib\")                        \n",
    "        articles_dd = payload.find_all('dd')\n",
    "        if articles_dd:\n",
    "            pars = []\n",
    "            add_par(articles_dd, pars)\n",
    "            if pars:\n",
    "                text = '\\n'.join(pars)\n",
    "                print(len(text.split()), text.split('\\n')[0], text.split('\\n')[-1], sep='\\n')\n"
   ]
  },
  {
   "cell_type": "code",
   "execution_count": null,
   "metadata": {},
   "outputs": [],
   "source": [
    "for file in os.listdir(ds_path):\n",
    "    with open(os.path.join(ds_path, file), 'r', encoding='utf-8') as f:\n",
    "        text = f.read()\n",
    "        # eng = re.findall('[a-zA-Z]', text)\n",
    "        # if eng:\n",
    "        #     print(file, eng)\n",
    "        pars = text.split('\\n')\n",
    "        print(file)\n",
    "        print(pars[0])\n",
    "        print(pars[-1])\n",
    "        print()"
   ]
  },
  {
   "cell_type": "code",
   "execution_count": 106,
   "metadata": {},
   "outputs": [],
   "source": [
    "df = pd.read_csv(descr_file_path, sep='|', names=['title', 'len', 'url'])"
   ]
  },
  {
   "cell_type": "code",
   "execution_count": 107,
   "metadata": {},
   "outputs": [
    {
     "data": {
      "text/plain": [
       "<AxesSubplot:>"
      ]
     },
     "execution_count": 107,
     "metadata": {},
     "output_type": "execute_result"
    },
    {
     "data": {
      "image/png": "[encoded data removed]",
      "text/plain": [
       "<Figure size 432x288 with 1 Axes>"
      ]
     },
     "metadata": {
      "needs_background": "light"
     },
     "output_type": "display_data"
    }
   ],
   "source": [
    "df['len'].hist()"
   ]
  },
  {
   "cell_type": "code",
   "execution_count": 108,
   "metadata": {},
   "outputs": [
    {
     "data": {
      "text/plain": [
       "count     224.000000\n",
       "mean      976.339286\n",
       "std       492.760269\n",
       "min        38.000000\n",
       "25%       578.750000\n",
       "50%       976.000000\n",
       "75%      1311.250000\n",
       "max      1977.000000\n",
       "Name: len, dtype: float64"
      ]
     },
     "execution_count": 108,
     "metadata": {},
     "output_type": "execute_result"
    }
   ],
   "source": [
    "df['len'].describe()"
   ]
  },
  {
   "cell_type": "code",
   "execution_count": 109,
   "metadata": {},
   "outputs": [],
   "source": [
    "df_filtered = pd.read_csv(filtered_file_path, sep='|', names=['title', 'len', 'url'])"
   ]
  },
  {
   "cell_type": "code",
   "execution_count": 110,
   "metadata": {},
   "outputs": [
    {
     "data": {
      "text/plain": [
       "<AxesSubplot:>"
      ]
     },
     "execution_count": 110,
     "metadata": {},
     "output_type": "execute_result"
    },
    {
     "data": {
      "image/png": "[encoded data removed]",
      "text/plain": [
       "<Figure size 432x288 with 1 Axes>"
      ]
     },
     "metadata": {
      "needs_background": "light"
     },
     "output_type": "display_data"
    }
   ],
   "source": [
    "df_filtered['len'][df_filtered['len'] < 5000].hist()"
   ]
  },
  {
   "cell_type": "code",
   "execution_count": 111,
   "metadata": {},
   "outputs": [
    {
     "data": {
      "text/plain": [
       "count       140.000000\n",
       "mean       9653.407143\n",
       "std       18290.968940\n",
       "min        2011.000000\n",
       "25%        2918.000000\n",
       "50%        3871.500000\n",
       "75%        7200.250000\n",
       "max      150530.000000\n",
       "Name: len, dtype: float64"
      ]
     },
     "execution_count": 111,
     "metadata": {},
     "output_type": "execute_result"
    }
   ],
   "source": [
    "df_filtered['len'].describe()"
   ]
  }
 ],
 "metadata": {
  "interpreter": {
   "hash": "2d3a13fa35461c6d7f441fbb3d93fc4f14860aa527e8f914775d5e57b8364c02"
  },
  "kernelspec": {
   "display_name": "Python 3.9.5 64-bit ('tf': conda)",
   "name": "python3"
  },
  "language_info": {
   "codemirror_mode": {
    "name": "ipython",
    "version": 3
   },
   "file_extension": ".py",
   "mimetype": "text/x-python",
   "name": "python",
   "nbconvert_exporter": "python",
   "pygments_lexer": "ipython3",
   "version": "3.9.5"
  },
  "orig_nbformat": 4
 },
 "nbformat": 4,
 "nbformat_minor": 2
}
